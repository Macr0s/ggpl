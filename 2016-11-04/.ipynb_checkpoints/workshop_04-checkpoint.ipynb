{
 "cells": [
  {
   "cell_type": "markdown",
   "metadata": {},
   "source": [
    "# Workshop 4 - Hip Roof\n",
    "\n",
    "![hip_roof](https://raw.githubusercontent.com/Macr0s/ggpl/master/2016-11-04/images/Rectangular-hip-roof.png)"
   ]
  },
  {
   "cell_type": "code",
   "execution_count": null,
   "metadata": {
    "collapsed": true
   },
   "outputs": [],
   "source": [
    "from pyplasm import *"
   ]
  },
  {
   "cell_type": "markdown",
   "metadata": {},
   "source": [
    "## Versione 1"
   ]
  },
  {
   "cell_type": "code",
   "execution_count": 26,
   "metadata": {
    "collapsed": true
   },
   "outputs": [],
   "source": [
    "def ggpl_hip_roof(verts, cells):\n",
    "    roof = []\n",
    "\n",
    "    def makeRidge(verts, cells):\n",
    "        remove=[]\n",
    "\n",
    "        def findFN(x):\n",
    "            if not x[2] == 0:\n",
    "                remove.append(x)\n",
    "            return x\n",
    "\n",
    "        def removeFN(x):\n",
    "            for i in range(len(remove)):\n",
    "                y = remove[i]\n",
    "                if y[0] == x[0] and y[1] == x[1] and x[2] == 0:\n",
    "                    return y\n",
    "            return x\n",
    "\n",
    "        ridge = OFFSET([0.1, 0.2, 0.1])((MKPOL([\n",
    "            map(removeFN, map(findFN, verts)),\n",
    "            cells,\n",
    "            None\n",
    "        ])))\n",
    "\n",
    "        return STRUCT([\n",
    "            T(3)(0.1),\n",
    "            ridge\n",
    "        ])\n",
    "\n",
    "    def makeStructure(verts, cells):\n",
    "        return OFFSET([0.1, 0.2, 0.1])(SKEL_1(MKPOL([verts,cells,None])))\n",
    "\n",
    "    ridge = makeRidge(verts, cells)\n",
    "    struct = makeStructure(verts, cells)\n",
    "\n",
    "    roof.append(COLOR(RED)(ridge))\n",
    "    roof.append(struct)\n",
    "    return STRUCT(roof)"
   ]
  },
  {
   "cell_type": "markdown",
   "metadata": {},
   "source": [
    "### Esempio 1"
   ]
  },
  {
   "cell_type": "code",
   "execution_count": 27,
   "metadata": {
    "collapsed": false
   },
   "outputs": [
    {
     "data": {
      "text/plain": [
       "<pyplasm.xgepy.Hpc; proxy of <Swig Object of type 'std::shared_ptr< Hpc > *' at 0x116d28f60> >"
      ]
     },
     "execution_count": 27,
     "metadata": {},
     "output_type": "execute_result"
    }
   ],
   "source": [
    "VIEW(ggpl_hip_roof([\n",
    "    [0,0,0],[0,10,0],[5,5,0],[5,5,5],[15,0,0],[15,10,0],[10,5,0],[10,5,5]\n",
    "],\n",
    "[\n",
    "    [3,4,2,1],[8,5,6,7],[5,8,7,3,4,1],[2,4,3,7,8,6]\n",
    "]))"
   ]
  },
  {
   "cell_type": "markdown",
   "metadata": {},
   "source": [
    "#### Risultato\n",
    "\n",
    "![example1.1](https://raw.githubusercontent.com/Macr0s/ggpl/master/2016-11-04/images/example1.1.png)\n",
    "\n",
    "![example1.2](https://raw.githubusercontent.com/Macr0s/ggpl/master/2016-11-04/images/example1.2.png)"
   ]
  },
  {
   "cell_type": "markdown",
   "metadata": {},
   "source": [
    "### Esempio 2"
   ]
  },
  {
   "cell_type": "code",
   "execution_count": 28,
   "metadata": {
    "collapsed": false
   },
   "outputs": [
    {
     "data": {
      "text/plain": [
       "<pyplasm.xgepy.Hpc; proxy of <Swig Object of type 'std::shared_ptr< Hpc > *' at 0x116d28c00> >"
      ]
     },
     "execution_count": 28,
     "metadata": {},
     "output_type": "execute_result"
    }
   ],
   "source": [
    "VIEW(ggpl_hip_roof([\n",
    "        [0, 10, 0], [4, 10, 0], [2, 8, 0], [2, 2, 0], [2, 8, 4], [2, 2, 4],\n",
    "        [4, 4, 0], [0, 0, 0], [10, 0, 0], [10, 4, 0], [8, 2, 0], [8, 2, 4]\n",
    "],[\n",
    "        [1, 2, 3, 5],\n",
    "        [1, 8, 4, 3, 5, 6], \n",
    "        [2, 7, 6, 5, 3, 4],\n",
    "        [8, 9, 11, 4, 6, 12],\n",
    "        [9, 10, 11, 12],\n",
    "        [7, 10, 11, 4, 6, 12]\n",
    "]))"
   ]
  },
  {
   "cell_type": "markdown",
   "metadata": {},
   "source": [
    "#### Risultato\n",
    "\n",
    "![example2.1](https://raw.githubusercontent.com/Macr0s/ggpl/master/2016-11-04/images/example2.1.png)\n",
    "\n",
    "![example2.2](https://raw.githubusercontent.com/Macr0s/ggpl/master/2016-11-04/images/example2.2.png)\n",
    "\n",
    "![example2.3](https://raw.githubusercontent.com/Macr0s/ggpl/master/2016-11-04/images/example2.3.png)"
   ]
  },
  {
   "cell_type": "markdown",
   "metadata": {},
   "source": [
    "## Versione 2"
   ]
  },
  {
   "cell_type": "code",
   "execution_count": 14,
   "metadata": {
    "collapsed": true
   },
   "outputs": [],
   "source": [
    "def ggpl_hip_roof_hpc(struct):\n",
    "    def cleanUKPOL(skel):\n",
    "        points, cells, none = UKPOL(skel)\n",
    "\n",
    "        def roundFN(x):\n",
    "            return [round(x[0]), round(x[1]), round(x[2])]\n",
    "\n",
    "        points = map(roundFN, points)\n",
    "\n",
    "        point_dict = {}\n",
    "\n",
    "        for i in range(len(points)):\n",
    "            key = ''.join(str(e) for e in points[i])\n",
    "\n",
    "            if (point_dict.has_key(key)):\n",
    "                point_dict[key][0] += 1\n",
    "                point_dict[key][2].append(i)\n",
    "            else:\n",
    "                point_dict[key] = [\n",
    "                    1,\n",
    "                    i + 1,\n",
    "                    [],\n",
    "                    points[i]\n",
    "                ]\n",
    "\n",
    "        points_new = []\n",
    "        support = []\n",
    "        for value in point_dict.values():\n",
    "            points_new.append(value[3])\n",
    "\n",
    "            for i in range(len(value[2])):\n",
    "                support.append([value[1], value[2][i]])\n",
    "\n",
    "        def searchFN(x):\n",
    "            def replace (y):\n",
    "                for i in range(len(support)):\n",
    "                    if support[i][1] == y:\n",
    "                        return support[i][0]\n",
    "                return y\n",
    "\n",
    "            return map(replace, x)\n",
    "\n",
    "        cells_new = map(searchFN, cells)\n",
    "\n",
    "        return [points, cells_new]\n",
    "    \n",
    "    def makeRidge(verts, cells):\n",
    "        remove = []\n",
    "\n",
    "        def findFN(x):\n",
    "            if not x[2] == 0:\n",
    "                remove.append(x)\n",
    "            return x\n",
    "\n",
    "        def removeFN(x):\n",
    "            for i in range(len(remove)):\n",
    "                y = remove[i]\n",
    "                if y[0] == x[0] and y[1] == x[1] and x[2] == 0:\n",
    "                    return y\n",
    "            return x\n",
    "\n",
    "        ridge = OFFSET([0.1, 0.2, 0.1])((MKPOL([\n",
    "            map(removeFN, map(findFN, verts)),\n",
    "            cells,\n",
    "            None\n",
    "        ])))\n",
    "\n",
    "        return STRUCT([\n",
    "            T(3)(0.1),\n",
    "            ridge\n",
    "        ])\n",
    "\n",
    "    verts, cells = cleanUKPOL(struct)\n",
    "    print verts\n",
    "    print cells\n",
    "\n",
    "    roof = []\n",
    "\n",
    "    ridge = makeRidge(verts, cells)\n",
    "    struct = OFFSET([0.1, 0.2, 0.1])(SKEL_1(struct))\n",
    "\n",
    "    roof.append(COLOR(RED)(ridge))\n",
    "    roof.append(struct)\n",
    "    return STRUCT(roof)"
   ]
  },
  {
   "cell_type": "markdown",
   "metadata": {},
   "source": [
    "### Esempio 1"
   ]
  },
  {
   "cell_type": "code",
   "execution_count": 29,
   "metadata": {
    "collapsed": false
   },
   "outputs": [
    {
     "name": "stdout",
     "output_type": "stream",
     "text": [
      "[[0.0, 10.0, 0.0], [5.0, 5.0, 0.0], [0.0, 0.0, 0.0], [5.0, 5.0, 5.0], [10.0, 5.0, 5.0], [15.0, 0.0, 0.0], [15.0, 10.0, 0.0], [10.0, 5.0, 0.0], [10.0, 5.0, 0.0], [15.0, 0.0, 0.0], [10.0, 5.0, 5.0], [0.0, 0.0, 0.0], [5.0, 5.0, 0.0], [5.0, 5.0, 5.0], [5.0, 5.0, 0.0], [0.0, 10.0, 0.0], [5.0, 5.0, 5.0], [15.0, 10.0, 0.0], [10.0, 5.0, 0.0], [10.0, 5.0, 5.0]]\n",
      "[[1, 2, 3, 4], [5, 6, 7, 8], [6, 5, 3, 2, 4, 2], [1, 4, 7, 8, 5, 20]]\n"
     ]
    },
    {
     "data": {
      "text/plain": [
       "<pyplasm.xgepy.Hpc; proxy of <Swig Object of type 'std::shared_ptr< Hpc > *' at 0x116d289f0> >"
      ]
     },
     "execution_count": 29,
     "metadata": {},
     "output_type": "execute_result"
    }
   ],
   "source": [
    "VIEW(ggpl_hip_roof_hpc(MKPOL([\n",
    "    [\n",
    "        [0,0,0],[0,10,0],[5,5,0],[5,5,5],[15,0,0],[15,10,0],[10,5,0],[10,5,5]\n",
    "    ],\n",
    "    [\n",
    "        [3,4,2,1],[8,5,6,7],[5,8,7,3,4,1],[2,4,3,7,8,6]\n",
    "    ],\n",
    "    None\n",
    "])))"
   ]
  },
  {
   "cell_type": "markdown",
   "metadata": {},
   "source": [
    "#### Risultato\n",
    "\n",
    "![example3.1](https://raw.githubusercontent.com/Macr0s/ggpl/master/2016-11-04/images/example3.1.png)\n",
    "\n",
    "![example3.2](https://raw.githubusercontent.com/Macr0s/ggpl/master/2016-11-04/images/example3.2.png)\n",
    "\n",
    "![example3.3](https://raw.githubusercontent.com/Macr0s/ggpl/master/2016-11-04/images/example3.3.png)"
   ]
  },
  {
   "cell_type": "code",
   "execution_count": null,
   "metadata": {
    "collapsed": true
   },
   "outputs": [],
   "source": []
  }
 ],
 "metadata": {
  "kernelspec": {
   "display_name": "Python 2",
   "language": "python",
   "name": "python2"
  },
  "language_info": {
   "codemirror_mode": {
    "name": "ipython",
    "version": 2
   },
   "file_extension": ".py",
   "mimetype": "text/x-python",
   "name": "python",
   "nbconvert_exporter": "python",
   "pygments_lexer": "ipython2",
   "version": "2.7.10"
  }
 },
 "nbformat": 4,
 "nbformat_minor": 0
}
