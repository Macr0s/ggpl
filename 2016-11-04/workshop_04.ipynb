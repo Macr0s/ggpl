{
 "cells": [
  {
   "cell_type": "markdown",
   "metadata": {},
   "source": [
    "# Workshop 4 - Hip Roof\n",
    "\n",
    "![hip_roof](https://raw.githubusercontent.com/Macr0s/ggpl/master/2016-11-04/images/Rectangular-hip-roof.png)"
   ]
  },
  {
   "cell_type": "code",
   "execution_count": null,
   "metadata": {
    "collapsed": true
   },
   "outputs": [],
   "source": [
    "from pyplasm import *"
   ]
  },
  {
   "cell_type": "markdown",
   "metadata": {},
   "source": [
    "## Versione 1\n",
    "\n",
    "In questa versione della funzione si ha un caso più semplice dove non si ha la necessita di determinare i vertici e le celle da un HPC. Per questo ci possiamo concentrarre sull'algoritmo di creazione della struttura portante del tetto e della sua copertura.\n",
    "\n",
    "Per quanto riguarda la creazione della struttura portante del tetto, l'algoritmo di creazione si può definire nel seguente modo:\n",
    "1. Viene creato la struttura piena del tetto\n",
    "2. Per determinare lo scheletro portante della struttura viene utilizzata la funzione SKEL_1 applicata alla struttura piena\n",
    "3. La funzione SKEL_1 genera una struttura portante con spessore mlto sottile\n",
    "4. Per rendere questa struttura molto più grande e verosimile basta applicare alla struttura appena generata la funzione OFFSET\n",
    "\n",
    "Per quanto riguarda la creazione della copertura del tetto, l'algoritmo può essere definito nel seguento modo:\n",
    "1. Cerco i punti che sono posizionati nell aparte alta del tetto\n",
    "2. Ogni punto in alto al tetto hanno un loro corrispettivo sul piano delle x e y.\n",
    "3. Questi punti vengono presi e spostati in alto \n",
    "\n",
    "Lo spostamento in alto di questi punti permette di trasformare una struttura piena nella corpertura nella stessa struttura."
   ]
  },
  {
   "cell_type": "code",
   "execution_count": 26,
   "metadata": {
    "collapsed": true
   },
   "outputs": [],
   "source": [
    "\"\"\" ggpl_hip_roof\n",
    "\n",
    "Questa funzione prende in ingresso i dati del tetto divisi in due gruppi vertici e celle.\n",
    "\n",
    "@param verts: i vertifici del tetto\n",
    "@param cells: la cella del tetto\n",
    "@return: il tetto\n",
    "\n",
    "\"\"\"\n",
    "def ggpl_hip_roof(verts, cells):\n",
    "    roof = []\n",
    "    \n",
    "    \"\"\" makeRidge\n",
    "    \n",
    "    Questa funzione avendo in input i dati del tetto crea la copertura del tetto\n",
    "    \n",
    "    @param verts: i vertifici del tetto\n",
    "    @param cells: la cella del tetto\n",
    "    @return: la copertura del tetto\n",
    "    \n",
    "    \"\"\"\n",
    "    def makeRidge(verts, cells):\n",
    "        remove=[]\n",
    "        \n",
    "        \n",
    "        \"\"\" findFN\n",
    "        \n",
    "        Questa funzione verifica se il punto x ha come coordinata z un valore diverso da zero. Se il punto soddisfa \n",
    "        questa condizione allora viene inserito nella lista globale remove\n",
    "        \n",
    "        @param x: il punto da controllare\n",
    "        @return: il punto pasato come parametro\n",
    "        \n",
    "        \"\"\"        \n",
    "        def findFN(x):\n",
    "            if not x[2] == 0:\n",
    "                remove.append(x)\n",
    "            return x\n",
    "        \n",
    "        \"\"\" removeFN\n",
    "        \n",
    "        Questa funzione serve per muovere i punti interni alla struttura in alto cosi da creare la copertura del\n",
    "        tetto\n",
    "        \n",
    "        @param x: il punto della struttura\n",
    "        @return: il nuovo punto della struttura\n",
    "        \n",
    "        \"\"\"\n",
    "        def removeFN(x):\n",
    "            for i in range(len(remove)):\n",
    "                y = remove[i]\n",
    "                if y[0] == x[0] and y[1] == x[1] and x[2] == 0:\n",
    "                    return y\n",
    "            return x\n",
    "\n",
    "        ridge = OFFSET([0.1, 0.2, 0.1])((MKPOL([\n",
    "            map(removeFN, map(findFN, verts)),\n",
    "            cells,\n",
    "            None\n",
    "        ])))\n",
    "\n",
    "        return STRUCT([\n",
    "            T(3)(0.1),\n",
    "            ridge\n",
    "        ])\n",
    "    \n",
    "    \"\"\" makeStructure\n",
    "    \n",
    "    Questa funzione avendo come input i dati del tetto crea la struttura portante del tetto stesso\n",
    "    \n",
    "    @param verts: i vertifici del tetto\n",
    "    @param cells: la cella del tetto\n",
    "    @return: la struttura portante del tetto\n",
    "    \n",
    "    \"\"\"\n",
    "    def makeStructure(verts, cells):\n",
    "        return OFFSET([0.1, 0.2, 0.1])(SKEL_1(MKPOL([verts,cells,None])))\n",
    "\n",
    "    ridge = makeRidge(verts, cells)\n",
    "    struct = makeStructure(verts, cells)\n",
    "\n",
    "    roof.append(COLOR(RED)(ridge))\n",
    "    roof.append(struct)\n",
    "    return STRUCT(roof)"
   ]
  },
  {
   "cell_type": "markdown",
   "metadata": {},
   "source": [
    "### Esempio 1"
   ]
  },
  {
   "cell_type": "code",
   "execution_count": 27,
   "metadata": {
    "collapsed": false
   },
   "outputs": [
    {
     "data": {
      "text/plain": [
       "<pyplasm.xgepy.Hpc; proxy of <Swig Object of type 'std::shared_ptr< Hpc > *' at 0x116d28f60> >"
      ]
     },
     "execution_count": 27,
     "metadata": {},
     "output_type": "execute_result"
    }
   ],
   "source": [
    "VIEW(ggpl_hip_roof([\n",
    "    [0,0,0],[0,10,0],[5,5,0],[5,5,5],[15,0,0],[15,10,0],[10,5,0],[10,5,5]\n",
    "],\n",
    "[\n",
    "    [3,4,2,1],[8,5,6,7],[5,8,7,3,4,1],[2,4,3,7,8,6]\n",
    "]))"
   ]
  },
  {
   "cell_type": "markdown",
   "metadata": {},
   "source": [
    "#### Risultato\n",
    "\n",
    "![example1.1](https://raw.githubusercontent.com/Macr0s/ggpl/master/2016-11-04/images/example1.1.png)\n",
    "\n",
    "![example1.2](https://raw.githubusercontent.com/Macr0s/ggpl/master/2016-11-04/images/example1.2.png)"
   ]
  },
  {
   "cell_type": "markdown",
   "metadata": {},
   "source": [
    "### Esempio 2"
   ]
  },
  {
   "cell_type": "code",
   "execution_count": 28,
   "metadata": {
    "collapsed": false
   },
   "outputs": [
    {
     "data": {
      "text/plain": [
       "<pyplasm.xgepy.Hpc; proxy of <Swig Object of type 'std::shared_ptr< Hpc > *' at 0x116d28c00> >"
      ]
     },
     "execution_count": 28,
     "metadata": {},
     "output_type": "execute_result"
    }
   ],
   "source": [
    "VIEW(ggpl_hip_roof([\n",
    "        [0, 10, 0], [4, 10, 0], [2, 8, 0], [2, 2, 0], [2, 8, 4], [2, 2, 4],\n",
    "        [4, 4, 0], [0, 0, 0], [10, 0, 0], [10, 4, 0], [8, 2, 0], [8, 2, 4]\n",
    "],[\n",
    "        [1, 2, 3, 5],\n",
    "        [1, 8, 4, 3, 5, 6], \n",
    "        [2, 7, 6, 5, 3, 4],\n",
    "        [8, 9, 11, 4, 6, 12],\n",
    "        [9, 10, 11, 12],\n",
    "        [7, 10, 11, 4, 6, 12]\n",
    "]))"
   ]
  },
  {
   "cell_type": "markdown",
   "metadata": {},
   "source": [
    "#### Risultato\n",
    "\n",
    "![example2.1](https://raw.githubusercontent.com/Macr0s/ggpl/master/2016-11-04/images/example2.1.png)\n",
    "\n",
    "![example2.2](https://raw.githubusercontent.com/Macr0s/ggpl/master/2016-11-04/images/example2.2.png)\n",
    "\n",
    "![example2.3](https://raw.githubusercontent.com/Macr0s/ggpl/master/2016-11-04/images/example2.3.png)"
   ]
  },
  {
   "cell_type": "markdown",
   "metadata": {},
   "source": [
    "## Versione 2\n",
    "\n",
    "In questa versione della funzione viene aggiunta alla logica di crezione della copertura del tetto e della sua struttura portante, la logica di conversione della struttura piena a una serie di vertici e celle.\n",
    "\n",
    "L'algoritmo di conversione della struttura piena si può definire nel seguente modo:\n",
    "1. Genero un insieme di punti e celle attraverso la funzione UKPOL applicata alla struttura piena\n",
    "2. Bisogna pulire sia i punti che le celle generate\n",
    "3. Per la pulizia dei punti bisogna prima arrotondarli all'intero più vicino e bisogna prendere solo i punti unici\n",
    "4. Per la pulizia delle celle bisogna sostiture gli indici delle celle originali con i nuovi indici generati sul nuovi insieme degli indici"
   ]
  },
  {
   "cell_type": "code",
   "execution_count": 34,
   "metadata": {
    "collapsed": false
   },
   "outputs": [
    {
     "ename": "IndentationError",
     "evalue": "unindent does not match any outer indentation level (<ipython-input-34-3bed90ee69c6>, line 81)",
     "output_type": "error",
     "traceback": [
      "\u001b[0;36m  File \u001b[0;32m\"<ipython-input-34-3bed90ee69c6>\"\u001b[0;36m, line \u001b[0;32m81\u001b[0m\n\u001b[0;31m    \"\"\" makeRidge\u001b[0m\n\u001b[0m                 ^\u001b[0m\n\u001b[0;31mIndentationError\u001b[0m\u001b[0;31m:\u001b[0m unindent does not match any outer indentation level\n"
     ]
    }
   ],
   "source": [
    "def ggpl_hip_roof_hpc(struct):\n",
    "    \n",
    "    \"\"\" cleanUKPOL\n",
    "    \n",
    "    Questa funzioen serve per determinare i vertici e le celle da un hpc\n",
    "    \n",
    "    @param skel: l'HPC in questione\n",
    "    @return: una lista di due elementi che corrisponde uno ai vertici e l'altro alle celle\n",
    "    \n",
    "    \"\"\"\n",
    "    def cleanUKPOL(skel):\n",
    "        points, cells, none = UKPOL(skel)\n",
    "        \n",
    "        \"\"\" roundFN\n",
    "        \n",
    "        Questa funzione prende in input un punto dello spazio e lo arrotonda al punto con coordinate intere\n",
    "        \n",
    "        @param x: il punto da arrotondare\n",
    "        @return: il nuovo punto arrotondato\n",
    "        \n",
    "        \"\"\"\n",
    "        def roundFN(x):\n",
    "            return [round(x[0]), round(x[1]), round(x[2])]\n",
    "\n",
    "        points = map(roundFN, points)\n",
    "\n",
    "        point_dict = {}\n",
    "        j = 1\n",
    "\n",
    "        for i in range(len(points)):\n",
    "            key = ''.join(str(e) for e in points[i])\n",
    "\n",
    "            if (point_dict.has_key(key)):\n",
    "                point_dict[key][1].append(i + 1)\n",
    "            else:\n",
    "                point_dict[key] = [\n",
    "                    j,\n",
    "                    [i+ 1],\n",
    "                    points[i]\n",
    "                ]\n",
    "                j += 1\n",
    "\n",
    "        points_new = []\n",
    "        support = []\n",
    "        for value in point_dict.values():\n",
    "            points_new.append(value[2])\n",
    "\n",
    "            for i in range(len(value[1])):\n",
    "                support.append([value[0], value[1][i]])\n",
    "        \n",
    "        \"\"\" iterateFN\n",
    "        \n",
    "        Questa funzione corregge la cella x\n",
    "        \n",
    "        @param x: la cella con gli indici sbagliati\n",
    "        @return: la cella corretta\n",
    "        \n",
    "        \"\"\"\n",
    "        def iterateFN(x):\n",
    "            \n",
    "            \"\"\" replace\n",
    "            \n",
    "            Questa funzione verifica se l'elemento y della cella è corretto e se non lo è allora lo corregge\n",
    "            \n",
    "            @param y: l'elemento della cella\n",
    "            @return: l'elemento della cella corretto\n",
    "            \n",
    "            \"\"\"\n",
    "            def replace (y):\n",
    "                for i in range(len(support)):\n",
    "                    if support[i][1] == y:\n",
    "                        return support[i][0]\n",
    "                return y\n",
    "\n",
    "            return map(replace, x)\n",
    "\n",
    "        cells_new = map(iterateFN, cells)\n",
    "\n",
    "        return [points, cells_new]\n",
    "    \n",
    "     \"\"\" makeRidge\n",
    "    \n",
    "    Questa funzione avendo in input i dati del tetto crea la copertura del tetto\n",
    "    \n",
    "    @param verts: i vertifici del tetto\n",
    "    @param cells: la cella del tetto\n",
    "    @return: la copertura del tetto\n",
    "    \n",
    "    \"\"\"\n",
    "    def makeRidge(verts, cells):\n",
    "        remove = []\n",
    "        \n",
    "        \n",
    "        \"\"\" findFN\n",
    "        \n",
    "        Questa funzione verifica se il punto x ha come coordinata z un valore diverso da zero. Se il punto soddisfa \n",
    "        questa condizione allora viene inserito nella lista globale remove\n",
    "        \n",
    "        @param x: il punto da controllare\n",
    "        @return: il punto pasato come parametro\n",
    "        \n",
    "        \"\"\"\n",
    "        def findFN(x):\n",
    "            if not x[2] == 0:\n",
    "                remove.append(x)\n",
    "            return x\n",
    "        \n",
    "        \"\"\" removeFN\n",
    "        \n",
    "        Questa funzione serve per muovere i punti interni alla struttura in alto cosi da creare la copertura del\n",
    "        tetto\n",
    "        \n",
    "        @param x: il punto della struttura\n",
    "        @return: il nuovo punto della struttura\n",
    "        \n",
    "        \"\"\"\n",
    "        def removeFN(x):\n",
    "            for i in range(len(remove)):\n",
    "                y = remove[i]\n",
    "                if y[0] == x[0] and y[1] == x[1] and x[2] == 0:\n",
    "                    return y\n",
    "            return x\n",
    "\n",
    "        ridge = OFFSET([0.1, 0.2, 0.1])((MKPOL([\n",
    "            map(removeFN, map(findFN, verts)),\n",
    "            cells,\n",
    "            None\n",
    "        ])))\n",
    "\n",
    "        return STRUCT([\n",
    "            T(3)(0.1),\n",
    "            ridge\n",
    "        ])\n",
    "\n",
    "    verts, cells = cleanUKPOL(struct)\n",
    "\n",
    "    roof = []\n",
    "    ridge = makeRidge(verts, cells)\n",
    "    struct = OFFSET([0.1, 0.2, 0.1])(SKEL_1(struct))\n",
    "\n",
    "    roof.append(COLOR(RED)(ridge))\n",
    "    roof.append(struct)\n",
    "    return STRUCT(roof)"
   ]
  },
  {
   "cell_type": "markdown",
   "metadata": {},
   "source": [
    "### Esempio 1"
   ]
  },
  {
   "cell_type": "code",
   "execution_count": 36,
   "metadata": {
    "collapsed": false
   },
   "outputs": [
    {
     "name": "stdout",
     "output_type": "stream",
     "text": [
      "[[0.0, 10.0, 0.0], [5.0, 5.0, 0.0], [0.0, 0.0, 0.0], [5.0, 5.0, 5.0], [10.0, 5.0, 5.0], [15.0, 0.0, 0.0], [15.0, 10.0, 0.0], [10.0, 5.0, 0.0], [10.0, 5.0, 0.0], [15.0, 0.0, 0.0], [10.0, 5.0, 5.0], [0.0, 0.0, 0.0], [5.0, 5.0, 0.0], [5.0, 5.0, 5.0], [5.0, 5.0, 0.0], [0.0, 10.0, 0.0], [5.0, 5.0, 5.0], [15.0, 10.0, 0.0], [10.0, 5.0, 0.0], [10.0, 5.0, 5.0]]\n",
      "[[1, 2, 3, 4], [5, 6, 7, 8], [6, 5, 3, 2, 4, 2], [1, 4, 7, 8, 5, 20]]\n"
     ]
    },
    {
     "data": {
      "text/plain": [
       "<pyplasm.xgepy.Hpc; proxy of <Swig Object of type 'std::shared_ptr< Hpc > *' at 0x116d17690> >"
      ]
     },
     "execution_count": 36,
     "metadata": {},
     "output_type": "execute_result"
    }
   ],
   "source": [
    "VIEW(ggpl_hip_roof_hpc(MKPOL([\n",
    "    [\n",
    "        [0,0,0],[0,10,0],[5,5,0],[5,5,5],[15,0,0],[15,10,0],[10,5,0],[10,5,5]\n",
    "    ],\n",
    "    [\n",
    "        [3,4,2,1],[8,5,6,7],[5,8,7,3,4,1],[2,4,3,7,8,6]\n",
    "    ],\n",
    "    None\n",
    "])))"
   ]
  },
  {
   "cell_type": "markdown",
   "metadata": {},
   "source": [
    "#### Risultato\n",
    "\n",
    "![example3.1](https://raw.githubusercontent.com/Macr0s/ggpl/master/2016-11-04/images/example3.1.png)\n",
    "\n",
    "![example3.2](https://raw.githubusercontent.com/Macr0s/ggpl/master/2016-11-04/images/example3.2.png)\n",
    "\n",
    "![example3.3](https://raw.githubusercontent.com/Macr0s/ggpl/master/2016-11-04/images/example3.3.png)"
   ]
  }
 ],
 "metadata": {
  "kernelspec": {
   "display_name": "Python 2",
   "language": "python",
   "name": "python2"
  },
  "language_info": {
   "codemirror_mode": {
    "name": "ipython",
    "version": 2
   },
   "file_extension": ".py",
   "mimetype": "text/x-python",
   "name": "python",
   "nbconvert_exporter": "python",
   "pygments_lexer": "ipython2",
   "version": "2.7.10"
  }
 },
 "nbformat": 4,
 "nbformat_minor": 0
}
