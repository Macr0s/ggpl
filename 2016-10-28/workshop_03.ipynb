{
 "cells": [
  {
   "cell_type": "markdown",
   "metadata": {
    "collapsed": true
   },
   "source": [
    "# L Shaped Stair"
   ]
  },
  {
   "cell_type": "markdown",
   "metadata": {},
   "source": [
    "![image1](https://raw.githubusercontent.com/Macr0s/ggpl/master/2016-10-28/images/6c069717de094fd68ba6cf0b276a4dd4.jpg)\n",
    "\n",
    "![image2](https://raw.githubusercontent.com/Macr0s/ggpl/master/2016-10-28/images/LS_01.gif)\n",
    "\n",
    "![image3](https://raw.githubusercontent.com/Macr0s/ggpl/master/2016-10-28/images/l shape.gif)"
   ]
  },
  {
   "cell_type": "markdown",
   "metadata": {},
   "source": [
    "## Procedimento di calcolo del numero di gradini,  alzata e pedana\n",
    "\n",
    "1. Prendere l'atezza del dislivello;\n",
    "2. Calcolare il numero di scalini: altezza in cm / 18 cm = scalini e questo numero arrotondato per eccesso;\n",
    "3. Calcolare l'altezza della alzata: altezza in cm / scalini = alzata cm;\n",
    "4. Estensione della pedana: 64 cm - 2 * (alzata cm).\n",
    "\n",
    "Considerazioni generiche:\n",
    "- L'alzata non può essere superiore a 18 cm né la pedata minore di 28 cm;\n",
    "- Normalmente al massimo ogni 9 0 10 gradini deve essere disposto un pianerottolo di profondità ≥ alla larghezza della rampa. \n",
    "- Abitazioni individuali dovranno avere una larghezza di almeno 0,80 m."
   ]
  },
  {
   "cell_type": "code",
   "execution_count": 1,
   "metadata": {
    "collapsed": false
   },
   "outputs": [
    {
     "name": "stdout",
     "output_type": "stream",
     "text": [
      "Evaluating fenvs.py..\n",
      "...fenvs.py imported in 0.004313 seconds\n"
     ]
    }
   ],
   "source": [
    "from pyplasm import *\n",
    "from math import *"
   ]
  },
  {
   "cell_type": "markdown",
   "metadata": {},
   "source": [
    "## Funzione di generazione scale\n",
    "\n",
    "La funzioen ggpl_l_shaped_stair genera come la scala anche come input le dimensione del vano scala. Questa funzione si basa sull'utilizzo di alcune sotto-funzioni base:\n",
    "- **makeStep**: Questa funzione avendo come input la pedata, l'alzata e un booleano che indica se il gradino che deve essere generato è l'ultimo della scalina\n",
    "```\n",
    "def makeStep(tread, riser, last):\n",
    "        if (last):\n",
    "            return CUBOID([1, tread, riser])\n",
    "        else:\n",
    "            base = MKPOL([[[0, 0], [0, riser], [tread, riser], [2 * tread, riser], [tread, 0]], [[1, 2, 3, 4, 5]], 1])\n",
    "            base = PROD([base, QUOTE([1])])\n",
    "\n",
    "            return STRUCT([\n",
    "                R([1, 3])(-math.pi / 2),\n",
    "                R([1, 2])(-3 * math.pi / 2),\n",
    "                base\n",
    "            ])\n",
    "```\n",
    "- **stairValue**: Questa funzione avendo come input l'altezza del vano scale genera i parametri base che servono per costruire la scala. Infatti questa funzione ha come output una tripletta di elementi dove il primo è intero corrispondente al numero di gradini, il secondo è un float che corrisponde all'alzata e l'ultimo è un floato che corrisponde alla pedata. \n",
    "```\n",
    " def stairValue(dz):\n",
    "        step = math.floor(dz * 100 / 18) + 1\n",
    "        riser = dz * 100 / step\n",
    "        tread = 64 - 2 * riser\n",
    "\n",
    "        return [int(step), riser / 100, tread / 100]\n",
    "```\n",
    "- **makeStair**: Questa funzione creata la scala utilizzando la funzione **makeStep** avendo come parametri in ingresso il numero di gradini, la pedata e l'alzato.\n",
    "```\n",
    " def makeStair(step, riser, tread):\n",
    "        steps = []\n",
    "        for i in range(step):\n",
    "            if i != 0:\n",
    "                steps.append(T([2, 3])([tread, riser]))\n",
    "            steps.append(makeStep(tread, riser, i == step - 1))\n",
    "\n",
    "        return steps\n",
    "```\n",
    "\n",
    "## Funzionamento di generazione della L sulla scala\n",
    "\n",
    "La generazioen della L sulla scala avviene nel seguente modo:\n",
    "```\n",
    " step, riser, tread = stairValue(dz)\n",
    "    stairs = []\n",
    "    stay_on_x = True\n",
    "    way = 0\n",
    "\n",
    "    while step != 0:\n",
    "        length = dx if stay_on_x else dy\n",
    "\n",
    "        offset = 2 if stay_on_x and way != 2 else (3 if stay_on_x else 1)\n",
    "\n",
    "        possible = int(math.floor((length - offset) / tread))\n",
    "\n",
    "        if possible >= step:\n",
    "            stairs.extend(makeStair(step, riser, tread))\n",
    "            step = 0\n",
    "        else:\n",
    "            step -= possible\n",
    "            stairs.extend(makeStair(possible, riser, tread))\n",
    "            stairs.append(T([2])([tread]))\n",
    "\n",
    "            stairs.append(CUBOID([1 + tread, 1, riser]))\n",
    "            stairs.append(T(2 if stay_on_x else 1)(1))\n",
    "            stairs.append(T(1 if stay_on_x else 2)(1))\n",
    "            stairs.append(R([1, 2])(- math.pi / 2.0))\n",
    "            stairs.append(T(3)(riser))\n",
    "\n",
    "            stay_on_x = not stay_on_x\n",
    "            way += 1 if way != 2 else 0\n",
    "\n",
    "```\n",
    "\n",
    "1. Considero l'asse x come asse di riferimento\n",
    "2. Determino il numero di scalini possibili su questo asse in base alla grandella del vano scape sull'asse di riferimento\n",
    "3. Se il numero di gradini disponibili è maggiore di quelli possibili allora creo la rampa di scale e finisco l'algoritmo\n",
    "4. Altrimenti creo la scala utilizzando come numero di gradini il numero di possibili gradini su quell'asse.\n",
    "5. Creo il pianerottolo\n",
    "6. Faccio una rotazione di - 90° sull'asse di riferimento\n",
    "7. Sottraggo al numero di scalani totali il numero di scalini utilizzati in questa rampa\n",
    "8. Ricomincio dal passo 2 cambiando asse di riferimento alternando x a y e viceversa"
   ]
  },
  {
   "cell_type": "code",
   "execution_count": 5,
   "metadata": {
    "collapsed": true
   },
   "outputs": [],
   "source": [
    "\"\"\" ggpl_l_shaped_stair\n",
    "\n",
    "Questa funzione genera una scala a L avendo come parametro le dimensioni x, y e z del vano scale\n",
    "\n",
    "@param dx: la larghezza del vano scale\n",
    "@param dy: la lunghezza del vano scale\n",
    "@param dz: l'altezza del vano scale\n",
    "@return: La scala.\n",
    "\"\"\"\n",
    "def ggpl_l_shaped_stair(dx, dy, dz):\n",
    "    \"\"\" makeStep \n",
    "    \n",
    "    Questa funzione avendo come input la pedata, l'alzata e un booleano che indica se il gradino che deve essere generato è l'ultimo della scalina\n",
    "    \n",
    "    @param tread: la dimensione della pedata dello scalino\n",
    "    @param riser: l'alzata dello scalino\n",
    "    @param last: un booleano che indica se il gradino che deve essere generato è l'ultimo della scalina\n",
    "    @param: il gradino che si è generato dai dati di input\n",
    "    \"\"\"\n",
    "    def makeStep(tread, riser, last):\n",
    "        if (last):\n",
    "            return CUBOID([1, tread, riser])\n",
    "        else:\n",
    "            base = MKPOL([[[0, 0], [0, riser], [tread, riser], [2 * tread, riser], [tread, 0]], [[1, 2, 3, 4, 5]], 1])\n",
    "            base = PROD([base, QUOTE([1])])\n",
    "\n",
    "            return STRUCT([\n",
    "                R([1, 3])(-math.pi / 2),\n",
    "                R([1, 2])(-3 * math.pi / 2),\n",
    "                base\n",
    "            ])\n",
    "\n",
    "    \"\"\" stairValue\n",
    "    \n",
    "    Questa funzione avendo come input l'altezza del vano scale genera i parametri base che servono per costruire la scala. Infatti questa funzione ha come output una tripletta di elementi dove il primo è intero corrispondente al numero di gradini, il secondo è un float che corrisponde all'alzata e l'ultimo è un floato che corrisponde alla pedata. \n",
    "    \n",
    "    @param dz: l'altezza del vano scale\n",
    "    @return: i paramentri base per la costruzione della scala\n",
    "    \"\"\"\n",
    "    def stairValue(dz):\n",
    "        step = math.floor(dz * 100 / 18) + 1\n",
    "        riser = dz * 100 / step\n",
    "        tread = 64 - 2 * riser\n",
    "\n",
    "        return [int(step), riser / 100, tread / 100]\n",
    "\n",
    "    \"\"\" makeStair\n",
    "    \n",
    "    Questa funzione creata la scala utilizzando la funzione **makeStep** avendo come parametri in ingresso il numero di gradini, la pedata e l'alzato.\n",
    "    \n",
    "    @param step: un intero che indica il numero di gradini\n",
    "    @param riser: un float ch indica l'alzata dello scalino\n",
    "    @param tread: un float che indiica la dimensione della pedata dello scalino\n",
    "    @return: la scalinata\n",
    "    \"\"\"\n",
    "    def makeStair(step, riser, tread):\n",
    "        steps = []\n",
    "        for i in range(step):\n",
    "            if i != 0:\n",
    "                steps.append(T([2, 3])([tread, riser]))\n",
    "            steps.append(makeStep(tread, riser, i == step - 1))\n",
    "\n",
    "        return steps\n",
    "\n",
    "    step, riser, tread = stairValue(dz)\n",
    "    stairs = []\n",
    "    stay_on_x = True\n",
    "    way = 0\n",
    "\n",
    "    while step != 0:\n",
    "        length = dx if stay_on_x else dy\n",
    "\n",
    "        offset = 2 if stay_on_x and way != 2 else (3 if stay_on_x else 1)\n",
    "\n",
    "        possible = int(math.floor((length - offset) / tread))\n",
    "\n",
    "        if possible >= step:\n",
    "            stairs.extend(makeStair(step, riser, tread))\n",
    "            step = 0\n",
    "        else:\n",
    "            step -= possible\n",
    "            stairs.extend(makeStair(possible, riser, tread))\n",
    "            stairs.append(T([2])([tread]))\n",
    "\n",
    "            stairs.append(CUBOID([1 + tread, 1, riser]))\n",
    "            stairs.append(T(2 if stay_on_x else 1)(1))\n",
    "            stairs.append(T(1 if stay_on_x else 2)(1))\n",
    "            stairs.append(R([1, 2])(- math.pi / 2.0))\n",
    "            stairs.append(T(3)(riser))\n",
    "\n",
    "            stay_on_x = not stay_on_x\n",
    "            way += 1 if way != 2 else 0\n",
    "\n",
    "    return STRUCT(stairs)"
   ]
  },
  {
   "cell_type": "code",
   "execution_count": 6,
   "metadata": {
    "collapsed": false
   },
   "outputs": [
    {
     "name": "stdout",
     "output_type": "stream",
     "text": [
      "[3.980001211166382, 2.980001449584961, 9.999999046325684]\n"
     ]
    },
    {
     "data": {
      "text/plain": [
       "<pyplasm.xgepy.Hpc; proxy of <Swig Object of type 'std::shared_ptr< Hpc > *' at 0x106a80cc0> >"
      ]
     },
     "execution_count": 6,
     "metadata": {},
     "output_type": "execute_result"
    }
   ],
   "source": [
    "stair = ggpl_l_shaped_stair(4,3,10)\n",
    "print SIZE([1,2,3])(stair)\n",
    "\n",
    "VIEW(stair)"
   ]
  },
  {
   "cell_type": "markdown",
   "metadata": {},
   "source": [
    "## Esempi di esecuzione\n",
    "\n",
    "### Esempio 1\n",
    "![image3](https://raw.githubusercontent.com/Macr0s/ggpl/master/2016-10-28/images/l shape.gif)\n",
    "\n",
    "```\n",
    "VIEW(ggpl_l_shaped_stair(4,3,10))\n",
    "```\n",
    "### Esempio 2\n",
    "\n",
    "### Esempio 3\n",
    "\n",
    "### Esempio 4\n"
   ]
  },
  {
   "cell_type": "markdown",
   "metadata": {},
   "source": [
    "# Link Utili\n",
    "- [Come calcolare una scala](http://www.uncome.it/casa/articolo/come-calcolare-una-scala-341.html)"
   ]
  },
  {
   "cell_type": "code",
   "execution_count": null,
   "metadata": {
    "collapsed": true
   },
   "outputs": [],
   "source": []
  }
 ],
 "metadata": {
  "kernelspec": {
   "display_name": "Python 2",
   "language": "python",
   "name": "python2"
  },
  "language_info": {
   "codemirror_mode": {
    "name": "ipython",
    "version": 2
   },
   "file_extension": ".py",
   "mimetype": "text/x-python",
   "name": "python",
   "nbconvert_exporter": "python",
   "pygments_lexer": "ipython2",
   "version": "2.7.10"
  }
 },
 "nbformat": 4,
 "nbformat_minor": 0
}
