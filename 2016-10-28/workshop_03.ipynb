{
 "cells": [
  {
   "cell_type": "markdown",
   "metadata": {
    "collapsed": true
   },
   "source": [
    "# L Shaped Stair"
   ]
  },
  {
   "cell_type": "markdown",
   "metadata": {},
   "source": [
    "![image1](https://raw.githubusercontent.com/Macr0s/ggpl/master/2016-10-28/images/6c069717de094fd68ba6cf0b276a4dd4.jpg)\n",
    "\n",
    "![image2](https://raw.githubusercontent.com/Macr0s/ggpl/master/2016-10-28/images/LS_01.gif)\n",
    "\n",
    "![image3](https://raw.githubusercontent.com/Macr0s/ggpl/master/2016-10-28/images/l shape.gif)"
   ]
  },
  {
   "cell_type": "markdown",
   "metadata": {},
   "source": [
    "## Procedimento di calcolo del numero di gradini,  alzata e pedana\n",
    "\n",
    "1. Prendere l'atezza del dislivello;\n",
    "2. Calcolare il numero di scalini: altezza in cm / 18 cm = scalini e questo numero arrotondato per eccesso;\n",
    "3. Calcolare l'altezza della alzata: altezza in cm / scalini = alzata cm;\n",
    "4. Estensione della pedana: 64 cm - 2 * (alzata cm).\n",
    "\n",
    "Considerazioni generiche:\n",
    "- L'alzata non può essere superiore a 18 cm né la pedata minore di 28 cm;\n",
    "- Normalmente al massimo ogni 9 0 10 gradini deve essere disposto un pianerottolo di profondità ≥ alla larghezza della rampa. \n",
    "- Abitazioni individuali dovranno avere una larghezza di almeno 0,80 m."
   ]
  },
  {
   "cell_type": "code",
   "execution_count": 27,
   "metadata": {},
   "outputs": [],
   "source": [
    "from pyplasm import *\n",
    "from math import *"
   ]
  },
  {
   "cell_type": "code",
   "execution_count": 46,
   "metadata": {
    "collapsed": true
   },
   "outputs": [],
   "source": [
    "def ggpl_l_shaped_stair(dx, dy, dz):\n",
    "    def stairValue(dz):\n",
    "        step = math.floor(dz * 100 / 18) + 1\n",
    "        riser = dz * 100 / step\n",
    "        tread = 64 - 2 * riser\n",
    "\n",
    "        return [int(step), riser / 100, tread / 100]\n",
    "\n",
    "    def makeStair(step, riser, tread):\n",
    "        steps = []\n",
    "        for i in range(step):\n",
    "            if i != 0:\n",
    "                steps.append(T([2, 3])([tread, riser]))\n",
    "            steps.append(CUBOID([1, tread, riser]))\n",
    "\n",
    "        return steps\n",
    "\n",
    "    step, riser, tread = stairValue(dz)\n",
    "    stairs = []\n",
    "    stay_on_x = True\n",
    "    way = 0\n",
    "\n",
    "    while step != 0:\n",
    "        length = dx if stay_on_x else dy\n",
    "\n",
    "        offset = 2 if stay_on_x and way != 2 else (3 if stay_on_x else 1)\n",
    "\n",
    "        possible = int(math.floor((length - offset) / tread))\n",
    "\n",
    "        if possible >= step:\n",
    "            stairs.extend(makeStair(step, riser, tread))\n",
    "            step = 0\n",
    "        else:\n",
    "            step -= possible\n",
    "            stairs.extend(makeStair(possible, riser, tread))\n",
    "            stairs.append(T([2])([tread]))\n",
    "\n",
    "            stairs.append(CUBOID([1, 1, riser]))\n",
    "            stairs.append(T(2 if stay_on_x else 1)(1))\n",
    "            stairs.append(T(1 if stay_on_x else 2)(1))\n",
    "            stairs.append(R([1, 2])(- math.pi / 2.0))\n",
    "            stairs.append(T(3)(riser))\n",
    "\n",
    "            stay_on_x = not stay_on_x\n",
    "            way += + 1 if way != 2 else 0\n",
    "\n",
    "    return STRUCT(stairs)"
   ]
  },
  {
   "cell_type": "code",
   "execution_count": 45,
   "metadata": {
    "collapsed": true
   },
   "outputs": [],
   "source": [
    "stair = ggpl_l_shaped_stair(4,3,10)\n",
    "print SIZE([1,2,3])(stair)\n",
    "\n",
    "VIEW(stair)"
   ]
  },
  {
   "cell_type": "code",
   "execution_count": null,
   "metadata": {},
   "outputs": [],
   "source": [
    ""
   ]
  }
 ],
 "metadata": {
  "kernelspec": {
   "display_name": "Python 2",
   "language": "python",
   "name": "python2"
  },
  "language_info": {
   "codemirror_mode": {
    "name": "ipython",
    "version": 2.0
   },
   "file_extension": ".py",
   "mimetype": "text/x-python",
   "name": "python",
   "nbconvert_exporter": "python",
   "pygments_lexer": "ipython2",
   "version": "2.7.10"
  }
 },
 "nbformat": 4,
 "nbformat_minor": 0
}