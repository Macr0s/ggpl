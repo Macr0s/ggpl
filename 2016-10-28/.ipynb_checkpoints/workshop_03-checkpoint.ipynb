{
 "cells": [
  {
   "cell_type": "markdown",
   "metadata": {
    "collapsed": true
   },
   "source": [
    "# L Shaped Stair"
   ]
  },
  {
   "cell_type": "markdown",
   "metadata": {},
   "source": [
    "![image1](https://raw.githubusercontent.com/Macr0s/ggpl/master/2016-10-28/images/6c069717de094fd68ba6cf0b276a4dd4.jpg)\n",
    "\n",
    "![image2](https://raw.githubusercontent.com/Macr0s/ggpl/master/2016-10-28/images/LS_01.gif)\n",
    "\n",
    "![image3](https://raw.githubusercontent.com/Macr0s/ggpl/master/2016-10-28/images/l shape.gif)"
   ]
  },
  {
   "cell_type": "markdown",
   "metadata": {},
   "source": [
    "## Procedimento di calcolo del numero di gradini,  alzata e pedana\n",
    "\n",
    "1. Prendere l'atezza del dislivello;\n",
    "2. Calcolare il numero di scalini: altezza in cm / 18 cm = scalini e questo numero arrotondato per eccesso;\n",
    "3. Calcolare l'altezza della alzata: altezza in cm / scalini = alzata cm;\n",
    "4. Estensione della pedana: 64 cm - 2 * (alzata cm).\n",
    "\n",
    "Considerazioni generiche:\n",
    "- L'alzata non può essere superiore a 18 cm né la pedata minore di 28 cm;\n",
    "- Normalmente al massimo ogni 9 0 10 gradini deve essere disposto un pianerottolo di profondità ≥ alla larghezza della rampa. \n",
    "- Abitazioni individuali dovranno avere una larghezza di almeno 0,80 m."
   ]
  },
  {
   "cell_type": "code",
   "execution_count": 1,
   "metadata": {
    "collapsed": true
   },
   "outputs": [],
   "source": []
  },
  {
   "cell_type": "code",
   "execution_count": null,
   "metadata": {
    "collapsed": true
   },
   "outputs": [],
   "source": []
  }
 ],
 "metadata": {
  "kernelspec": {
   "display_name": "Python 2",
   "language": "python",
   "name": "python2"
  },
  "language_info": {
   "codemirror_mode": {
    "name": "ipython",
    "version": 2
   },
   "file_extension": ".py",
   "mimetype": "text/x-python",
   "name": "python",
   "nbconvert_exporter": "python",
   "pygments_lexer": "ipython2",
   "version": "2.7.10"
  }
 },
 "nbformat": 4,
 "nbformat_minor": 0
}
