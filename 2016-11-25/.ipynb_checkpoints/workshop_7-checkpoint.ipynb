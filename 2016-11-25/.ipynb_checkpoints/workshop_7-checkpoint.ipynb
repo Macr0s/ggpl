{
 "cells": [
  {
   "cell_type": "markdown",
   "metadata": {},
   "source": [
    "# La mia porta e le finestre"
   ]
  },
  {
   "cell_type": "code",
   "execution_count": 3,
   "metadata": {
    "collapsed": false
   },
   "outputs": [
    {
     "name": "stdout",
     "output_type": "stream",
     "text": [
      "Evaluating fenvs.py..\n",
      "...fenvs.py imported in 0.006909 seconds\n"
     ]
    }
   ],
   "source": [
    "from pyplasm import *"
   ]
  },
  {
   "cell_type": "markdown",
   "metadata": {},
   "source": [
    "## Funzione base\n",
    "\n",
    "La seguente funzione vine utilizzata per generare i colori custom per le varie parti della finestra"
   ]
  },
  {
   "cell_type": "code",
   "execution_count": 4,
   "metadata": {
    "collapsed": false
   },
   "outputs": [],
   "source": [
    "def intRGBColor(values):\n",
    "    \"\"\" intRGBColor\n",
    "\n",
    "    Metodo preso dal web per ottenere colori da RGB\n",
    "    :param values: lista di tre interi RGB\n",
    "    :return: Color4f\n",
    "    \"\"\"\n",
    "    return Color4f([\n",
    "        values[0]/255.0,\n",
    "        values[1]/255.0,\n",
    "        values[2]/255.0,\n",
    "        1\n",
    "    ])\n",
    "\n",
    "GOLD = intRGBColor([238,232,170])\n",
    "#: Colore oro\n",
    "\n",
    "LIGHT_BLUE = intRGBColor([192,242,247])\n",
    "#: Colore blue chiaro\n",
    "\n",
    "LIGHT_BROWN = intRGBColor([193,157,98])\n",
    "#: Colore Legno"
   ]
  },
  {
   "cell_type": "markdown",
   "metadata": {},
   "source": [
    "### Struttura base della finestra e della porta\n",
    "\n",
    "Questa funzione è il vero cuore della creazione della porta e della finestra. In questa funzione avendo come parametro i dati caratterizzando della struttura crea insieme sia la struttura in legno che i vari vetri che sono presenti sulla struttura. \n",
    "\n",
    "In questa funzione non viene fatto riferimento alla posizione del pomello, perchè la sua posizione è qualcosa dipende dallo stile della finestra stessa o dalla porta.\n",
    "\n",
    "La generazione del vetro e del legno viene effettuata insieme, poichè tutte le variabili di supporto sono comuni cambia solo la funzione che genera il vetro dal legno. Questa generazione del vetro e del legno viene effutata attraverso due funzioni chiamate rispettivamente 'generate_glass' e 'generate'.\n",
    "\n",
    "Queste due funzioni venogno applicate ad ogni singolo elemento delle matrice occupacy. Questa matrice occupacy rappresenta la struttura della finestra e la distribuzione del vetro e del legno.\n",
    "\n",
    "Ogni riga della matrice rappresenta la posizione relativa di ogni legno e vetro sulla y_i e ogni colonna la posizione reletiva di ogni lengo e vetro sulla x_i"
   ]
  },
  {
   "cell_type": "code",
   "execution_count": 5,
   "metadata": {
    "collapsed": true
   },
   "outputs": [],
   "source": [
    "def ggpl_simply_window_door(x, y, z, occupacy):\n",
    "    \"\"\" ggpl_simply_window_door\n",
    "\n",
    "    Metodo che crea la struttura base della finestra e della porta\n",
    "\n",
    "    :param x: proiezione della finestra sulla x\n",
    "    :param y: proiezione della finestra sulla y\n",
    "    :param z: proiezione della finestra sulla z\n",
    "    :param occupacy: matrice che presenta le zone dove ci sta il vetro o il legno\n",
    "    :return: hpc della struttura base della porta e della finestra\n",
    "    \"\"\"\n",
    "\n",
    "    offset = 0\n",
    "    #: Posizione parziale sulla y di ogni parte della struttura\n",
    "\n",
    "    glass_depth = 0.2\n",
    "    #: Spessore del vestro\n",
    "\n",
    "    final = []\n",
    "    #: Lista dove sono contenuti tutti gli hpc parziali\n",
    "\n",
    "    def generate(t):\n",
    "        \"\"\" generate\n",
    "\n",
    "        Metodo che serve per generare il legno o uno spazio vuoto\n",
    "\n",
    "        :param t: grandezza della parte\n",
    "        :return:  un float positivo per il legno e uno negativo per il legno\n",
    "        \"\"\"\n",
    "        return t[0] * (1 if t[1] == 1 else -1)\n",
    "\n",
    "    def generate_glass(t):\n",
    "        \"\"\" generate_glass\n",
    "\n",
    "        Metodo che serve per generare il vetro o uno spazio vuoto\n",
    "\n",
    "        :param t: grandezza della parte\n",
    "        :return:  un float positivo per il legno e uno negativo per il vetro\n",
    "        \"\"\"\n",
    "        return t[0] * (-1 if t[1] == 1 else 1)\n",
    "\n",
    "    def foundNegative(list):\n",
    "        \"\"\" foundNegative\n",
    "\n",
    "        Metodo per determinare se e' presente uno spazio vuoto nella lista passata come parametro\n",
    "\n",
    "        :param list: una lista\n",
    "        :return: un booleano\n",
    "        \"\"\"\n",
    "        for i in range(len(list)):\n",
    "            if list[i] > 0:\n",
    "                return False\n",
    "        return True\n",
    "\n",
    "    for i in range(len(occupacy)):\n",
    "        final.append(COLOR(LIGHT_BROWN)(PROD([\n",
    "            PROD([\n",
    "                QUOTE(map(generate, zip(x, occupacy[i]))),\n",
    "                QUOTE([-offset, y[i]])\n",
    "            ]),\n",
    "            QUOTE([z[0] / 2.0, z[0] / 2.0])\n",
    "        ])))\n",
    "\n",
    "        colum = map(generate_glass, zip(x, occupacy[i]))\n",
    "\n",
    "        if not foundNegative(colum):\n",
    "            final.append(COLOR(LIGHT_BLUE)(PROD([\n",
    "                PROD([\n",
    "                    QUOTE(colum),\n",
    "                    QUOTE([-offset, y[i]])\n",
    "                ]),\n",
    "                QUOTE([-z[0] / 2.0 + glass_depth / 2.0, glass_depth])\n",
    "            ])))\n",
    "\n",
    "        offset += y[i]\n",
    "\n",
    "    return STRUCT(final)"
   ]
  },
  {
   "cell_type": "markdown",
   "metadata": {},
   "source": [
    "### Somma parziale"
   ]
  },
  {
   "cell_type": "code",
   "execution_count": 6,
   "metadata": {
    "collapsed": true
   },
   "outputs": [],
   "source": [
    "def sumPartial(list, max):\n",
    "    \"\"\" sumPartial\n",
    "\n",
    "    Metodo che calcola la somma parziale fino ad un indice\n",
    "\n",
    "    :param list: una lista\n",
    "    :param max: l'indice\n",
    "    :return: il valore della somma paziale\n",
    "    \"\"\"\n",
    "    height = 0.0\n",
    "    for i in range(max):\n",
    "        height += list[i]\n",
    "\n",
    "    return height"
   ]
  },
  {
   "cell_type": "markdown",
   "metadata": {},
   "source": [
    "## Finestra\n",
    "\n",
    "La finestra si basa sulle funzioni definite precedentemente, aggiungendo il codice per la creazione del pomello."
   ]
  },
  {
   "cell_type": "code",
   "execution_count": 7,
   "metadata": {
    "collapsed": true
   },
   "outputs": [],
   "source": [
    "def ggpl_window(x, y, z, occupacy):\n",
    "    \"\"\"\n",
    "    Metodo che crea la struttura della finestra\n",
    "\n",
    "    :param x: proiezione della finestra sulla x\n",
    "    :param y: proiezione della finestra sulla y\n",
    "    :param z: proiezione della finestra sulla z\n",
    "    :param occupacy: matrice che presenta le zone dove ci sta il vetro o il legno\n",
    "    :return: hpc della struttura della finestra\n",
    "    \"\"\"\n",
    "    def makeKnob():\n",
    "        \"\"\" makeKnob\n",
    "\n",
    "        Metodo che crea il pomello\n",
    "\n",
    "        :return: una lista di hpc che rappresenta il pomello\n",
    "        \"\"\"\n",
    "\n",
    "        depth_knob = [3,4,0.2]\n",
    "        #: Dimensione del pmello\n",
    "\n",
    "        def allPositive(list):\n",
    "            for i in range(len(list)):\n",
    "                if list[i] == 0:\n",
    "                    return False\n",
    "            return True\n",
    "\n",
    "        first = 0\n",
    "        #: Variabile intera per dire se va messo oppure no il pomello. Se vale 1 allora va messo\n",
    "\n",
    "\n",
    "        for i in range(len(occupacy)):\n",
    "            check = allPositive(occupacy[i])\n",
    "            #: Condizione base per creare il pomello\n",
    "\n",
    "            if check and first == 1:\n",
    "                offest = z[0]\n",
    "                #: Grandezza della finestra\n",
    "\n",
    "                size = SUM(x)\n",
    "                #: Larghezza della finestra\n",
    "\n",
    "                space = y[i]\n",
    "                #: Grandezza massima del pomello\n",
    "\n",
    "                height = sumPartial(y, i)\n",
    "                #: Posizione del pomello sulle y rispetto all'origine\n",
    "\n",
    "                return [\n",
    "                    COLOR(GOLD)(PROD([\n",
    "                        PROD([\n",
    "                            QUOTE([- size / 2.0 + depth_knob[0] / 2.0, depth_knob[0]]),\n",
    "                            QUOTE([- height, space])\n",
    "                        ]),\n",
    "                        QUOTE([-offest, depth_knob[2]])\n",
    "                    ])),\n",
    "                    COLOR(GOLD)(PROD([\n",
    "                        PROD([\n",
    "                            QUOTE([- size / 2.0 + depth_knob[0] / 2.0, depth_knob[0]]),\n",
    "                            QUOTE([- height - space / 2.0, space / 2.0])\n",
    "                        ]),\n",
    "                        QUOTE([-offest -depth_knob[2], depth_knob[2]])\n",
    "                    ]))\n",
    "                ]\n",
    "            elif check and first == 0:\n",
    "                first = 1\n",
    "\n",
    "    def scale(dx, dy, dz):\n",
    "        \"\"\" scale\n",
    "\n",
    "        Metodo per scalare la finestra\n",
    "\n",
    "        :param dx: Il fattore di scala sulle x\n",
    "        :param dy: Il fattore di scala sulle y\n",
    "        :param dz: Il fattore di scala sulle z\n",
    "        :return: La finestra scalata\n",
    "        \"\"\"\n",
    "\n",
    "        final = [\n",
    "            S([1, 2, 3])([dx, dy, dz]),\n",
    "            ggpl_simply_window_door(x, y, z, occupacy),\n",
    "        ]\n",
    "\n",
    "        final.extend(makeKnob())\n",
    "\n",
    "        return STRUCT(final)\n",
    "\n",
    "    return scale"
   ]
  },
  {
   "cell_type": "markdown",
   "metadata": {},
   "source": [
    "### Esempio"
   ]
  },
  {
   "cell_type": "code",
   "execution_count": 8,
   "metadata": {
    "collapsed": false
   },
   "outputs": [
    {
     "name": "stdout",
     "output_type": "stream",
     "text": [
      "[25.0, 34.0, 1.399999976158142]\n"
     ]
    },
    {
     "data": {
      "text/plain": [
       "<pyplasm.xgepy.Hpc; proxy of <Swig Object of type 'std::shared_ptr< Hpc > *' at 0x112432d20> >"
      ]
     },
     "execution_count": 8,
     "metadata": {},
     "output_type": "execute_result"
    }
   ],
   "source": [
    "X=[1,5,1,5,1,5,1,5,1]\n",
    "Y=[1,10,1,10,1,10,1]\n",
    "Z=[1]\n",
    "occupacy=[\n",
    "    [1,1,1,1,1,1,1,1,1],\n",
    "    [1,0,0,0,0,0,0,0,1],\n",
    "    [1,1,1,1,1,1,1,1,1],\n",
    "    [1,0,0,0,0,0,0,0,1],\n",
    "    [1,1,1,1,1,1,1,1,1],\n",
    "    [1,0,1,0,1,0,1,0,1],\n",
    "    [1,1,1,1,1,1,1,1,1]]\n",
    "\n",
    "window = ggpl_window(X,Y,Z,occupacy)(1,1,1)\n",
    "\n",
    "print(SIZE([1,2,3])(window))\n",
    "\n",
    "VIEW(window)"
   ]
  },
  {
   "cell_type": "markdown",
   "metadata": {},
   "source": [
    "![image1](https://raw.githubusercontent.com/Macr0s/ggpl/master/2016-11-25/image/image1.png)\n",
    "\n",
    "![image2](https://raw.githubusercontent.com/Macr0s/ggpl/master/2016-11-25/image/image2.png)"
   ]
  },
  {
   "cell_type": "markdown",
   "metadata": {},
   "source": [
    "## Porta\n",
    "\n",
    "![french-door](https://raw.githubusercontent.com/Macr0s/ggpl/master/2016-11-25/image/french-door-entry-way_med.jpeg)\n",
    "\n",
    "Come il metodo per la creazione della porta si basa come il precedentemente sulla funzioni base ma il codice per determinare la posizione del pomello cambia"
   ]
  },
  {
   "cell_type": "code",
   "execution_count": null,
   "metadata": {
    "collapsed": true
   },
   "outputs": [],
   "source": [
    "def ggpl_door(x, y, z, occupacy):\n",
    "    \"\"\"\n",
    "    Metodo che crea la struttura della porta\n",
    "\n",
    "    :param x: proiezione della porta sulla x\n",
    "    :param y: proiezione della porta sulla y\n",
    "    :param z: proiezione della porta sulla z\n",
    "    :param occupacy: matrice che presenta le zone dove ci sta il vetro o il legno\n",
    "    :return: hpc della struttura della porta\n",
    "    \"\"\"\n",
    "\n",
    "    def makeKnob(size):\n",
    "        \"\"\" makeKnob\n",
    "\n",
    "        Metodo che crea il pomello\n",
    "\n",
    "        :param size: La grandezza della finestra sulla x\n",
    "        :return: una lista di hpc che rappresenta il pomello\n",
    "        \"\"\"\n",
    "\n",
    "        space = y[4]\n",
    "        #: Grandezza della zona dove puo' essere messo il pomello\n",
    "\n",
    "        height = sumPartial(y, 5)\n",
    "        #: Altezza massima del pomello rispetto l'asse x\n",
    "\n",
    "        depth_knob = 1\n",
    "        #: Grandezza del pomello\n",
    "        return [\n",
    "            COLOR(GOLD)(PROD([\n",
    "                PROD([\n",
    "                    QUOTE([- size / 2.0 + depth_knob, depth_knob]),\n",
    "                    QUOTE([- height + space / 2.0, depth_knob])\n",
    "                ]),\n",
    "                QUOTE([-z[0], depth_knob])\n",
    "            ]))\n",
    "        ]\n",
    "\n",
    "\n",
    "    def scale(dx, dy, dz):\n",
    "        \"\"\" scale\n",
    "\n",
    "        Metodo per scalare la porta\n",
    "\n",
    "        :param dx: Il fattore di scala sulle x\n",
    "        :param dy: Il fattore di scala sulle y\n",
    "        :param dz: Il fattore di scala sulle z\n",
    "        :return: La porta scalata\n",
    "        \"\"\"\n",
    "\n",
    "        structure = ggpl_simply_window_door(x, y, z, occupacy)\n",
    "        #: Struttura base della finestra\n",
    "\n",
    "        size = SIZE([1, 2, 3])(structure)\n",
    "        #: Occupazione della finestra nell'asse x, y, z\n",
    "\n",
    "        final = [\n",
    "            S([1, 2, 3])([dx, dy, dz]),\n",
    "            structure\n",
    "        ]\n",
    "\n",
    "        final.extend(makeKnob(size[0]))\n",
    "\n",
    "        return STRUCT(final)\n",
    "\n",
    "    return scale"
   ]
  },
  {
   "cell_type": "markdown",
   "metadata": {},
   "source": [
    "### Esempio"
   ]
  },
  {
   "cell_type": "code",
   "execution_count": null,
   "metadata": {
    "collapsed": false
   },
   "outputs": [],
   "source": [
    "X = [2, 3, 1, 3, 2, 2, 3, 1, 3, 1, 3, 2, 2, 3, 1, 3, 1, 3, 2, 2, 3, 1, 3, 2]\n",
    "Y = [5, 5, 2, 1, 5, 1, 5, 1, 5, 1, 5, 1, 2, 1]\n",
    "Z = [1]\n",
    "occupacy=[\n",
    "    [1, 1, 1, 1, 1, 1, 1, 1, 1, 1, 1, 1, 1, 1, 1, 1, 1, 1, 1, 1, 1, 1, 1, 1],\n",
    "    [1, 1, 1, 1, 1, 1, 0, 1, 0, 1, 0, 1, 1, 0, 1, 0, 1, 0, 1, 1, 1, 1, 1, 1],\n",
    "    [1, 0, 1, 0, 1, 1, 0, 1, 0, 1, 0, 1, 1, 0, 1, 0, 1, 0, 1, 1, 0, 1, 0, 1],\n",
    "    [1, 1, 1, 1, 1, 1, 1, 1, 1, 1, 1, 1, 1, 1, 1, 1, 1, 1, 1, 1, 1, 1, 1, 1],\n",
    "    [1, 0, 1, 0, 1, 1, 0, 1, 0, 1, 0, 1, 1, 0, 1, 0, 1, 0, 1, 1, 0, 1, 0, 1],\n",
    "    [1, 1, 1, 1, 1, 1, 1, 1, 1, 1, 1, 1, 1, 1, 1, 1, 1, 1, 1, 1, 1, 1, 1, 1],\n",
    "    [1, 0, 1, 0, 1, 1, 0, 1, 0, 1, 0, 1, 1, 0, 1, 0, 1, 0, 1, 1, 0, 1, 0, 1],\n",
    "    [1, 1, 1, 1, 1, 1, 1, 1, 1, 1, 1, 1, 1, 1, 1, 1, 1, 1, 1, 1, 1, 1, 1, 1],\n",
    "    [1, 0, 1, 0, 1, 1, 0, 1, 0, 1, 0, 1, 1, 0, 1, 0, 1, 0, 1, 1, 0, 1, 0, 1],\n",
    "    [1, 1, 1, 1, 1, 1, 1, 1, 1, 1, 1, 1, 1, 1, 1, 1, 1, 1, 1, 1, 1, 1, 1, 1],\n",
    "    [1, 0, 1, 0, 1, 1, 0, 1, 0, 1, 0, 1, 1, 0, 1, 0, 1, 0, 1, 1, 0, 1, 0, 1],\n",
    "    [1, 1, 1, 1, 1, 1, 1, 1, 1, 1, 1, 1, 1, 1, 1, 1, 1, 1, 1, 1, 1, 1, 1, 1],\n",
    "    [1, 0, 1, 0, 1, 1, 1, 1, 1, 1, 1, 1, 1, 1, 1, 1, 1, 1, 1, 1, 0, 1, 0, 1],\n",
    "    [1, 1, 1, 1, 1, 1, 1, 1, 1, 1, 1, 1, 1, 1, 1, 1, 1, 1, 1, 1, 1, 1, 1, 1]\n",
    "]\n",
    "\n",
    "VIEW(ggpl_door(X,Y,Z, occupacy)(1, 1, 1))"
   ]
  },
  {
   "cell_type": "markdown",
   "metadata": {},
   "source": [
    "![image3](https://raw.githubusercontent.com/Macr0s/ggpl/master/2016-11-25/image/image3.png)\n",
    "\n",
    "![image4](https://raw.githubusercontent.com/Macr0s/ggpl/master/2016-11-25/image/image4.png)"
   ]
  },
  {
   "cell_type": "code",
   "execution_count": null,
   "metadata": {
    "collapsed": true
   },
   "outputs": [],
   "source": []
  }
 ],
 "metadata": {
  "kernelspec": {
   "display_name": "IPython (Python 2.7)",
   "language": "python",
   "name": "python2.7"
  },
  "language_info": {
   "codemirror_mode": {
    "name": "ipython",
    "version": 2
   },
   "file_extension": ".py",
   "mimetype": "text/x-python",
   "name": "python",
   "nbconvert_exporter": "python",
   "pygments_lexer": "ipython2",
   "version": "2.7.10"
  }
 },
 "nbformat": 4,
 "nbformat_minor": 0
}
