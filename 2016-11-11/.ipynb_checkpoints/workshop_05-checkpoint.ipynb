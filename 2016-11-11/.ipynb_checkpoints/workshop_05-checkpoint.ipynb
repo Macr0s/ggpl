{
 "cells": [
  {
   "cell_type": "code",
   "execution_count": 1,
   "metadata": {
    "collapsed": false
   },
   "outputs": [
    {
     "name": "stdout",
     "output_type": "stream",
     "text": [
      "Evaluating fenvs.py..\n",
      "...fenvs.py imported in 0.004975 seconds\n"
     ]
    }
   ],
   "source": [
    "from pyplasm import *"
   ]
  },
  {
   "cell_type": "markdown",
   "metadata": {},
   "source": [
    "# Funziona base per i colori"
   ]
  },
  {
   "cell_type": "code",
   "execution_count": 2,
   "metadata": {
    "collapsed": true
   },
   "outputs": [],
   "source": [
    "def intRGBColor(values):\n",
    "    return Color4f([values[0] / 255.0,\n",
    "                    values[1] / 255.0,\n",
    "                    values[2] / 255.0,\n",
    "                    1.0])"
   ]
  },
  {
   "cell_type": "markdown",
   "metadata": {
    "collapsed": true
   },
   "source": [
    "# Sedia"
   ]
  },
  {
   "cell_type": "code",
   "execution_count": 7,
   "metadata": {
    "collapsed": true
   },
   "outputs": [],
   "source": [
    "def ggpl_chair(dx, dy, dz):\n",
    "    depth_leg = 0.05 * dx\n",
    "    distance_leg = 0.03 * dx\n",
    "    depth_chair = 0.01 * dz\n",
    "    height_leg = 0.45 * dz\n",
    "\n",
    "    def makeLeg(dx, dy, dz):\n",
    "        def baseChair(dx, dy, dz):\n",
    "            first = PROD([\n",
    "                PROD([\n",
    "                    QUOTE([-distance_leg, dx - distance_leg * 2]),\n",
    "                    QUOTE([-distance_leg, dy - distance_leg * 2])\n",
    "                ]),\n",
    "                QUOTE([- dz + depth_leg, depth_leg])\n",
    "            ])\n",
    "            second = PROD([\n",
    "                PROD([\n",
    "                    QUOTE([-distance_leg - depth_leg, dx - distance_leg * 2 - depth_leg * 2]),\n",
    "                    QUOTE([-distance_leg - depth_leg, dy - distance_leg * 2 - depth_leg * 2])\n",
    "                ]),\n",
    "                QUOTE([- dz + depth_leg, depth_leg])\n",
    "            ])\n",
    "\n",
    "            return DIFF([\n",
    "                first, second\n",
    "            ])\n",
    "\n",
    "        base_x = QUOTE([-distance_leg, depth_leg, - (dx - distance_leg * 2 - depth_leg * 2), depth_leg])\n",
    "        base_y = QUOTE([-distance_leg, depth_leg, - (dy - distance_leg * 2 - depth_leg * 2), depth_leg])\n",
    "        base_z = QUOTE([dz - depth_leg])\n",
    "\n",
    "        return STRUCT([\n",
    "            PROD([\n",
    "                PROD([base_x, base_y]),\n",
    "                base_z\n",
    "            ]),\n",
    "            baseChair(dx, dy, dz)\n",
    "        ])\n",
    "\n",
    "    return STRUCT([\n",
    "        COLOR(BLACK)(makeLeg(dx, dy, height_leg)),\n",
    "        T(3)(height_leg),\n",
    "        COLOR(intRGBColor([215, 190, 157]))(CUBOID([dx, dy, depth_chair])),\n",
    "        T(2)(dy - depth_chair),\n",
    "        COLOR(intRGBColor([215, 190, 157]))(CUBOID([dx, depth_chair, dz - depth_chair - height_leg]))\n",
    "    ])"
   ]
  },
  {
   "cell_type": "markdown",
   "metadata": {},
   "source": [
    "## Esempio"
   ]
  },
  {
   "cell_type": "code",
   "execution_count": 8,
   "metadata": {
    "collapsed": false
   },
   "outputs": [
    {
     "name": "stdout",
     "output_type": "stream",
     "text": [
      "[0.4000000059604645, 0.4000000059604645, 0.8910000324249268]\n"
     ]
    },
    {
     "data": {
      "text/plain": [
       "<pyplasm.xgepy.Hpc; proxy of <Swig Object of type 'std::shared_ptr< Hpc > *' at 0x1073c44b0> >"
      ]
     },
     "execution_count": 8,
     "metadata": {},
     "output_type": "execute_result"
    }
   ],
   "source": [
    "v = ggpl_chair(0.40, 0.40, 0.9)\n",
    "print SIZE([1,2,3])(v)\n",
    "VIEW(v)"
   ]
  },
  {
   "cell_type": "markdown",
   "metadata": {},
   "source": [
    "# Sedia con Braccioli"
   ]
  },
  {
   "cell_type": "code",
   "execution_count": 9,
   "metadata": {
    "collapsed": true
   },
   "outputs": [],
   "source": [
    "def ggpl_chair_with_arm(dx, dy, dz):\n",
    "    depth_leg = 0.05 * dx\n",
    "    distance_leg = 0.03 * dx\n",
    "    height_leg = 0.45 * dz\n",
    "\n",
    "    chair = ggpl_chair(dx - depth_leg * 4, dy, dz)\n",
    "\n",
    "    def makeArm(dx, dy, dz, right=True):\n",
    "        def supportArm():\n",
    "            return COLOR(BLACK)(STRUCT([\n",
    "                T([2,3])([distance_leg,height_leg - depth_leg]),\n",
    "                CUBOID([depth_leg * 2 + distance_leg, depth_leg, depth_leg]),\n",
    "                T([2])([dy - distance_leg * 2 - depth_leg]),\n",
    "                CUBOID([depth_leg * 2 + distance_leg, depth_leg, depth_leg])\n",
    "            ]))\n",
    "\n",
    "        base = [\n",
    "            COLOR(BLACK)(PROD([\n",
    "                PROD([\n",
    "                    QUOTE([0, dx]),\n",
    "                    QUOTE([-distance_leg, depth_leg, - (dy - distance_leg * 2 - depth_leg * 2), depth_leg])\n",
    "                ]),\n",
    "                QUOTE([-height_leg, (dz - height_leg - depth_leg) * 0.5])\n",
    "            ])),\n",
    "            COLOR(intRGBColor([215, 190, 157]))(PROD([\n",
    "                PROD([\n",
    "                    QUOTE([0, dx]),\n",
    "                    QUOTE([-distance_leg, dy - distance_leg * 2])\n",
    "                ]),\n",
    "                QUOTE([- (height_leg + (dz - height_leg - depth_leg) * 0.5), depth_leg])\n",
    "            ]))\n",
    "        ]\n",
    "\n",
    "        final = [supportArm()]\n",
    "\n",
    "        if not right:\n",
    "            final = [\n",
    "                supportArm(),\n",
    "                T(1)(distance_leg + depth_leg)\n",
    "            ]\n",
    "\n",
    "        final.extend(base)\n",
    "\n",
    "        return STRUCT(final)\n",
    "\n",
    "    return STRUCT([\n",
    "        makeArm(depth_leg, dy, dz),\n",
    "        T(1)(depth_leg*2),\n",
    "        chair,\n",
    "        T(1)(dx - depth_leg * 4 - distance_leg),\n",
    "        makeArm(depth_leg, dy, dz, False)\n",
    "    ])"
   ]
  },
  {
   "cell_type": "markdown",
   "metadata": {},
   "source": [
    "## Esempio"
   ]
  },
  {
   "cell_type": "code",
   "execution_count": 10,
   "metadata": {
    "collapsed": false
   },
   "outputs": [
    {
     "name": "stdout",
     "output_type": "stream",
     "text": [
      "[0.3999999761581421, 0.4000000059604645, 0.8910000324249268]\n"
     ]
    },
    {
     "data": {
      "text/plain": [
       "<pyplasm.xgepy.Hpc; proxy of <Swig Object of type 'std::shared_ptr< Hpc > *' at 0x1073ab630> >"
      ]
     },
     "execution_count": 10,
     "metadata": {},
     "output_type": "execute_result"
    }
   ],
   "source": [
    "v = ggpl_chair_with_arm(0.40, 0.40, 0.9)\n",
    "print SIZE([1,2,3])(v)\n",
    "VIEW(v)"
   ]
  },
  {
   "cell_type": "markdown",
   "metadata": {},
   "source": [
    "# Sedia con tavolino"
   ]
  },
  {
   "cell_type": "code",
   "execution_count": 11,
   "metadata": {
    "collapsed": true
   },
   "outputs": [],
   "source": [
    "def ggpl_chair_with_desk(dx, dy, dz):\n",
    "    depth_leg = 0.05 * dx\n",
    "    distance_leg = 0.03 * dx\n",
    "    height_leg = 0.45 * dz\n",
    "\n",
    "    chair = ggpl_chair_with_arm(dx, dy * 0.7, dz)\n",
    "\n",
    "    def makeDesk(dx, dy, dz):\n",
    "        return STRUCT([\n",
    "            COLOR(intRGBColor([215, 190, 157]))(PROD([\n",
    "                PROD([\n",
    "                    QUOTE([dx, 0]),\n",
    "                    QUOTE([dy, 0])\n",
    "                ]),\n",
    "                QUOTE([- (height_leg + (dz - height_leg - depth_leg) * 0.5), depth_leg])\n",
    "            ])),\n",
    "            T([2, 3])([dy, height_leg + (dz - height_leg - depth_leg) * 0.5]),\n",
    "            COLOR(BLACK)(CUBOID([depth_leg, distance_leg, depth_leg]))\n",
    "        ])\n",
    "\n",
    "    return STRUCT([\n",
    "        makeDesk(dx * 0.75, dy * 0.3, dz),\n",
    "        T(2)(dy * 0.3),\n",
    "        chair\n",
    "    ])"
   ]
  },
  {
   "cell_type": "markdown",
   "metadata": {},
   "source": [
    "## Esempio"
   ]
  },
  {
   "cell_type": "code",
   "execution_count": 12,
   "metadata": {
    "collapsed": false
   },
   "outputs": [
    {
     "name": "stdout",
     "output_type": "stream",
     "text": [
      "[0.3999999761581421, 0.4000000059604645, 0.8910000324249268]\n"
     ]
    },
    {
     "data": {
      "text/plain": [
       "<pyplasm.xgepy.Hpc; proxy of <Swig Object of type 'std::shared_ptr< Hpc > *' at 0x1073abb70> >"
      ]
     },
     "execution_count": 12,
     "metadata": {},
     "output_type": "execute_result"
    }
   ],
   "source": [
    "v = ggpl_chair_with_desk(0.40, 0.40, 0.9)\n",
    "print SIZE([1,2,3])(v)\n",
    "VIEW(v)"
   ]
  },
  {
   "cell_type": "markdown",
   "metadata": {},
   "source": [
    "# Tavolo"
   ]
  },
  {
   "cell_type": "code",
   "execution_count": 13,
   "metadata": {
    "collapsed": true
   },
   "outputs": [],
   "source": [
    "def ggpl_table(dx, dy, dz):\n",
    "    depth_leg = 0.05 * dx\n",
    "    distance_leg = 0.03 * dx\n",
    "    depth_table = 0.05 * dz\n",
    "\n",
    "    def makeLeg(dx, dy, dz):\n",
    "        def baseChair(dx, dy, dz):\n",
    "            first = PROD([\n",
    "                PROD([\n",
    "                    QUOTE([-distance_leg, dx - distance_leg * 2]),\n",
    "                    QUOTE([-distance_leg, dy - distance_leg * 2])\n",
    "                ]),\n",
    "                QUOTE([- dz + depth_leg, depth_leg])\n",
    "            ])\n",
    "            second = PROD([\n",
    "                PROD([\n",
    "                    QUOTE([-distance_leg - depth_leg, dx - distance_leg * 2 - depth_leg * 2]),\n",
    "                    QUOTE([-distance_leg - depth_leg, dy - distance_leg * 2 - depth_leg * 2])\n",
    "                ]),\n",
    "                QUOTE([- dz + depth_leg, depth_leg])\n",
    "            ])\n",
    "\n",
    "            return DIFF([\n",
    "                first, second\n",
    "            ])\n",
    "\n",
    "        base_x = QUOTE([-distance_leg, depth_leg, - (dx - distance_leg * 2 - depth_leg * 2), depth_leg])\n",
    "        base_y = QUOTE([-distance_leg, depth_leg, - (dy - distance_leg * 2 - depth_leg * 2), depth_leg])\n",
    "        base_z = QUOTE([dz - depth_leg])\n",
    "\n",
    "        return STRUCT([\n",
    "            PROD([\n",
    "                PROD([base_x, base_y]),\n",
    "                base_z\n",
    "            ]),\n",
    "            baseChair(dx, dy, dz)\n",
    "        ])\n",
    "\n",
    "    return COLOR(intRGBColor([215, 190, 157]))(STRUCT([\n",
    "        makeLeg(dx, dy, dz - depth_table),\n",
    "        T(3)(dz - depth_table),\n",
    "        CUBOID([dx, dy, depth_table])\n",
    "    ]))"
   ]
  },
  {
   "cell_type": "markdown",
   "metadata": {},
   "source": [
    "# Esempio"
   ]
  },
  {
   "cell_type": "code",
   "execution_count": 14,
   "metadata": {
    "collapsed": false
   },
   "outputs": [
    {
     "name": "stdout",
     "output_type": "stream",
     "text": [
      "[0.6000000238418579, 1.0, 1.0]\n"
     ]
    },
    {
     "data": {
      "text/plain": [
       "<pyplasm.xgepy.Hpc; proxy of <Swig Object of type 'std::shared_ptr< Hpc > *' at 0x10739ebd0> >"
      ]
     },
     "execution_count": 14,
     "metadata": {},
     "output_type": "execute_result"
    }
   ],
   "source": [
    "v = ggpl_table(0.60, 1, 1)\n",
    "print SIZE([1,2,3])(v)\n",
    "VIEW(v)"
   ]
  },
  {
   "cell_type": "markdown",
   "metadata": {},
   "source": [
    "# Tavolo con sedia"
   ]
  },
  {
   "cell_type": "code",
   "execution_count": null,
   "metadata": {
    "collapsed": true
   },
   "outputs": [],
   "source": [
    "def ggpl_table_with_chair(dx, dy, dz):\n",
    "    depth_leg = 0.05\n",
    "    distance_leg = 0.03\n",
    "    table = ggpl_table(dx, dy * 0.5, dz * 0.8, depth_leg, distance_leg)\n",
    "    chair = ggpl_chair(dx - (depth_leg * 2 + distance_leg * 2 + 0.02), dy * 0.5, dz, depth_leg)\n",
    "\n",
    "    return STRUCT([\n",
    "        table,\n",
    "        T([1,2])([depth_leg + distance_leg + 0.01, dy * 0.5]),\n",
    "        chair\n",
    "    ])"
   ]
  },
  {
   "cell_type": "markdown",
   "metadata": {},
   "source": [
    "## Esempio"
   ]
  },
  {
   "cell_type": "code",
   "execution_count": null,
   "metadata": {
    "collapsed": false
   },
   "outputs": [],
   "source": [
    "v = ggpl_table_with_chair(0.60, 1, 1)\n",
    "print SIZE([1,2,3])(v)\n",
    "VIEW(v)"
   ]
  },
  {
   "cell_type": "markdown",
   "metadata": {},
   "source": [
    "# Tavolo con sedia con braccioli"
   ]
  },
  {
   "cell_type": "code",
   "execution_count": null,
   "metadata": {
    "collapsed": true
   },
   "outputs": [],
   "source": [
    "def ggpl_table_with_chair_arm(dx, dy, dz):\n",
    "    depth_leg = 0.05\n",
    "    distance_leg = 0.03\n",
    "    table = ggpl_table(dx, dy * 0.5, dz * 0.8, depth_leg, distance_leg)\n",
    "    chair = ggpl_chair_with_arm(dx - (depth_leg * 2 + distance_leg * 2 + 0.02), dy * 0.5, dz, depth_leg)\n",
    "\n",
    "    return STRUCT([\n",
    "        table,\n",
    "        T([1,2])([depth_leg + distance_leg + 0.01, dy * 0.5]),\n",
    "        chair\n",
    "    ])"
   ]
  },
  {
   "cell_type": "markdown",
   "metadata": {},
   "source": [
    "## Esempio"
   ]
  },
  {
   "cell_type": "code",
   "execution_count": null,
   "metadata": {
    "collapsed": false
   },
   "outputs": [],
   "source": [
    "v = ggpl_table_with_chair_arm(1, 1, 1)\n",
    "print SIZE([1,2,3])(v)\n",
    "VIEW(v)"
   ]
  },
  {
   "cell_type": "markdown",
   "metadata": {},
   "source": [
    "# Tavolo da mensa struttura base"
   ]
  },
  {
   "cell_type": "code",
   "execution_count": null,
   "metadata": {
    "collapsed": true
   },
   "outputs": [],
   "source": [
    "def ggpl_table_canteen_base(dx, dy, dz):\n",
    "    depth_leg = 0.030 * dx\n",
    "    heigth_leg = 0.45 * dz - depth_leg\n",
    "    depth_table = 0.03 * dx\n",
    "    depth_chair = 0.30 * dy\n",
    "\n",
    "    def makeLeg(dx, dy, dz):\n",
    "        return PROD([\n",
    "            PROD([\n",
    "                QUOTE([depth_leg, - (dx - depth_leg * 2), depth_leg]),\n",
    "                QUOTE([depth_leg, - (dy - depth_leg * 2), depth_leg])\n",
    "            ]),\n",
    "            QUOTE([0, heigth_leg])\n",
    "        ])\n",
    "\n",
    "    def makeStruct(dx, dy, dz):\n",
    "        return [\n",
    "            PROD([\n",
    "                PROD([\n",
    "                    QUOTE([0, dx]),\n",
    "                    QUOTE([\n",
    "                        depth_leg,\n",
    "                        - dy + (depth_leg * 2),\n",
    "                        depth_leg\n",
    "                    ])\n",
    "                ]),\n",
    "                QUOTE([-heigth_leg, depth_leg])\n",
    "            ]),\n",
    "            PROD([\n",
    "                PROD([\n",
    "                    QUOTE([- (dx - depth_leg) / 2, depth_leg]),\n",
    "                    QUOTE([-depth_leg, (dy - depth_leg * 2), -depth_leg])\n",
    "                ]),\n",
    "                QUOTE([-heigth_leg, depth_leg])\n",
    "            ]),\n",
    "            PROD([\n",
    "                PROD([\n",
    "                    QUOTE([- (dx - depth_leg) / 2 + depth_leg, depth_leg, - depth_leg, depth_leg]),\n",
    "                    QUOTE([- depth_chair, depth_leg, - dy + depth_leg * 2 + depth_chair * 2, depth_leg])\n",
    "                ]),\n",
    "                QUOTE([-heigth_leg, dz - heigth_leg - depth_table])\n",
    "            ]),\n",
    "            PROD([\n",
    "                PROD([\n",
    "                    QUOTE([0, dx]),\n",
    "                    QUOTE([-depth_chair, dy - depth_chair * 2])\n",
    "                ]),\n",
    "                QUOTE([- dz + depth_table, depth_table])\n",
    "            ])\n",
    "        ]\n",
    "\n",
    "    final = [makeLeg(dx,dy, dz)]\n",
    "    final.extend(makeStruct(dx, dy, dz))\n",
    "\n",
    "    return final"
   ]
  },
  {
   "cell_type": "markdown",
   "metadata": {},
   "source": [
    "# Tavolo da mensa con seduta unica"
   ]
  },
  {
   "cell_type": "code",
   "execution_count": null,
   "metadata": {
    "collapsed": true
   },
   "outputs": [],
   "source": [
    "def ggpl_table_canteen(dx, dy, dz):\n",
    "    depth_leg = 0.030 * dx\n",
    "    heigth_leg = 0.45 * dz - depth_leg\n",
    "    depth_table = 0.03 * dx\n",
    "    depth_chair = 0.30 * dy\n",
    "\n",
    "    def makeChair(dx, dy, dz):\n",
    "        return [\n",
    "            PROD([\n",
    "                PROD([\n",
    "                    QUOTE([(dx - depth_leg) / 2, - depth_leg, (dx - depth_leg) / 2, 0]),\n",
    "                    QUOTE([\n",
    "                        - depth_chair + depth_leg,\n",
    "                        depth_leg,\n",
    "                        - dy + (depth_chair * 2),\n",
    "                        depth_leg,\n",
    "                    ])\n",
    "                ]),\n",
    "                QUOTE([-heigth_leg, depth_leg])\n",
    "            ]),\n",
    "            PROD([\n",
    "                PROD([\n",
    "                    QUOTE([0, dx]),\n",
    "                    QUOTE([depth_chair, - dy + depth_chair * 2, depth_chair])\n",
    "                ]),\n",
    "                QUOTE([- depth_leg - heigth_leg, depth_table])\n",
    "            ]),\n",
    "            PROD([\n",
    "                PROD([\n",
    "                    QUOTE([0, dx]),\n",
    "                    QUOTE([depth_table, - dy + depth_table * 2, depth_table])\n",
    "                ]),\n",
    "                QUOTE([- depth_leg - heigth_leg - depth_table, dz - depth_leg - heigth_leg - depth_table])\n",
    "            ])\n",
    "        ]\n",
    "\n",
    "    final = ggpl_table_canteen_base(dx, dy, dz)\n",
    "    final.extend(makeChair(dx, dy, dz))\n",
    "\n",
    "    return COLOR(intRGBColor([215, 190, 157]))(STRUCT(final))"
   ]
  },
  {
   "cell_type": "markdown",
   "metadata": {},
   "source": [
    "## Esempio"
   ]
  },
  {
   "cell_type": "code",
   "execution_count": null,
   "metadata": {
    "collapsed": false
   },
   "outputs": [],
   "source": [
    "v = ggpl_table_canteen(1, 1, 1)\n",
    "print SIZE([1,2,3])(v)\n",
    "VIEW(v)"
   ]
  },
  {
   "cell_type": "markdown",
   "metadata": {
    "collapsed": true
   },
   "source": [
    "# Tavolo da mensa con seduta divisa"
   ]
  },
  {
   "cell_type": "code",
   "execution_count": null,
   "metadata": {
    "collapsed": true
   },
   "outputs": [],
   "source": [
    "def ggpl_table_canteen_single_chair(dx, dy, dz):\n",
    "    table = ggpl_table_canteen_base(dx, dy, dz)\n",
    "    depth_leg = 0.030 * dx\n",
    "    heigth_leg = 0.45 * dz - depth_leg\n",
    "    depth_table = 0.03 * dx\n",
    "    depth_chair = 0.30 * dy\n",
    "\n",
    "    def makeChair(dx, dy, dz):\n",
    "        number_chair = math.floor(dx / depth_chair)\n",
    "\n",
    "        if number_chair % 2 == 0:\n",
    "            number_chair -= 1\n",
    "\n",
    "        distance_chair = (dx / number_chair) - depth_chair\n",
    "        distance_chair += distance_chair / (number_chair - 1)\n",
    "\n",
    "        x = [depth_chair, -distance_chair] * (int(number_chair) - 1)\n",
    "        x.append(depth_chair)\n",
    "\n",
    "        return [\n",
    "            PROD([\n",
    "                PROD([\n",
    "                    QUOTE([(dx - depth_leg) / 2, - depth_leg, (dx - depth_leg) / 2, 0]),\n",
    "                    QUOTE([\n",
    "                        - depth_chair + depth_leg ,\n",
    "                        depth_leg,\n",
    "                        - dy + (depth_chair * 2),\n",
    "                        depth_leg,\n",
    "                    ])\n",
    "                ]),\n",
    "                QUOTE([-heigth_leg, depth_leg])\n",
    "            ]),\n",
    "            PROD([\n",
    "                PROD([\n",
    "                    QUOTE(x),\n",
    "                    QUOTE([depth_chair, - dy + depth_chair * 2, depth_chair])\n",
    "                ]),\n",
    "                QUOTE([- depth_leg - heigth_leg, depth_table])\n",
    "            ]),\n",
    "            PROD([\n",
    "                PROD([\n",
    "                    QUOTE(x),\n",
    "                    QUOTE([depth_table, - dy + depth_table * 2, depth_table])\n",
    "                ]),\n",
    "                QUOTE([- depth_leg - heigth_leg - depth_table, dz - depth_leg - heigth_leg - depth_table])\n",
    "            ])\n",
    "        ]\n",
    "\n",
    "    table.extend(makeChair(dx, dy, dz))\n",
    "\n",
    "    return COLOR(intRGBColor([215, 190, 157]))(STRUCT(table))"
   ]
  },
  {
   "cell_type": "markdown",
   "metadata": {},
   "source": [
    "## Esempio"
   ]
  },
  {
   "cell_type": "code",
   "execution_count": null,
   "metadata": {
    "collapsed": false
   },
   "outputs": [],
   "source": [
    "v = ggpl_table_canteen_single_chair(1, 1, 1)\n",
    "print SIZE([1, 2, 3])(v)\n",
    "VIEW(v)"
   ]
  },
  {
   "cell_type": "markdown",
   "metadata": {},
   "source": [
    "# Tavolo da mensa con sedute girevoli"
   ]
  },
  {
   "cell_type": "code",
   "execution_count": null,
   "metadata": {
    "collapsed": true
   },
   "outputs": [],
   "source": [
    "def ggpl_table_canteen_turning_chair(dx, dy, dz):\n",
    "    depth_chair = 0.30 * dy\n",
    "    depth_leg = 0.030 * dx\n",
    "    heigth_leg = 0.45 * dz - depth_leg\n",
    "    depth_table = 0.03 * dx\n",
    "\n",
    "    def makeDisk():\n",
    "        def disk2D(p):\n",
    "            u, v = p\n",
    "            return [v * COS(u), v * SIN(u)]\n",
    "\n",
    "        domain2D = PROD([INTERVALS(2 * PI)(1280), INTERVALS(1)(3)])\n",
    "        return STRUCT([\n",
    "            T([1,2])([depth_chair / 1.825, depth_chair / 1.825]),\n",
    "            S([1, 2])([depth_table / 2.0, depth_table / 2.0]),\n",
    "            PROD([\n",
    "                MAP(disk2D)(domain2D),\n",
    "                QUOTE([- depth_leg - heigth_leg,depth_table])\n",
    "            ])\n",
    "        ])\n",
    "\n",
    "    def makeChair(dx, dy, dz):\n",
    "        number_chair = math.floor(dx / depth_chair)\n",
    "\n",
    "        if number_chair % 2 == 0:\n",
    "            number_chair -= 1\n",
    "\n",
    "        distance_chair = (dx / number_chair) - depth_chair\n",
    "        distance_chair += distance_chair / (number_chair - 1)\n",
    "\n",
    "        x = [depth_chair, -distance_chair] * (int(number_chair) - 1)\n",
    "        x.append(depth_chair)\n",
    "\n",
    "        def makeGroupDisk():\n",
    "            first = STRUCT([makeDisk(), T(1)(depth_chair + distance_chair)] * int(number_chair))\n",
    "\n",
    "            final = [T(2)(dy - depth_chair - depth_leg)]\n",
    "            final.extend([makeDisk(), T(1)(depth_chair + distance_chair)] * int(number_chair))\n",
    "\n",
    "            return STRUCT([\n",
    "                first,\n",
    "                STRUCT(final)\n",
    "            ])\n",
    "\n",
    "        return [\n",
    "            makeGroupDisk(),\n",
    "            PROD([\n",
    "                PROD([\n",
    "                    QUOTE(x),\n",
    "                    QUOTE([depth_chair, - dy + depth_chair * 2, depth_chair])\n",
    "                ]),\n",
    "                QUOTE([- depth_leg - heigth_leg - depth_table, depth_table])\n",
    "            ]),\n",
    "            PROD([\n",
    "                PROD([\n",
    "                    QUOTE(x),\n",
    "                    QUOTE([depth_table, - dy + depth_table * 2, depth_table])\n",
    "                ]),\n",
    "                QUOTE([- depth_leg - heigth_leg - depth_table * 2, dz - depth_leg - heigth_leg - depth_table])\n",
    "            ])\n",
    "        ]\n",
    "\n",
    "    final = makeChair(dx, dy, dz)\n",
    "    final.append(T(2)(depth_chair / 2.0))\n",
    "    table = ggpl_table_canteen_base(dx, dy - depth_chair, dz)\n",
    "    final.extend(table)\n",
    "\n",
    "    return COLOR(intRGBColor([215, 190, 157]))(STRUCT(final))"
   ]
  },
  {
   "cell_type": "markdown",
   "metadata": {},
   "source": [
    "##  Esempio"
   ]
  },
  {
   "cell_type": "code",
   "execution_count": null,
   "metadata": {
    "collapsed": false
   },
   "outputs": [],
   "source": [
    "v = ggpl_table_canteen_turning_chair(2, 2, 2)\n",
    "print SIZE([1, 2, 3])(v)\n",
    "VIEW(v)"
   ]
  },
  {
   "cell_type": "markdown",
   "metadata": {},
   "source": [
    "# Mobiletto - Struttura base"
   ]
  },
  {
   "cell_type": "code",
   "execution_count": 14,
   "metadata": {
    "collapsed": true
   },
   "outputs": [],
   "source": [
    "def ggpl_mobile_base(dx, dy, dz):\n",
    "    depth_chair = 0.03 * dy\n",
    "    feet = 0.05 * dz\n",
    "    distance_leg = 0.03 * dx\n",
    "    depth_leg = 0.05 * dx\n",
    "\n",
    "    def makeWall(dx, dy, dz):\n",
    "        return [\n",
    "            PROD([\n",
    "                PROD([\n",
    "                    QUOTE([0, dx]),\n",
    "                    QUOTE([0, dy])\n",
    "                ]),\n",
    "                QUOTE([depth_chair, - dz + depth_chair * 2, depth_chair, 0])\n",
    "            ]),\n",
    "            PROD([\n",
    "                PROD([\n",
    "                    QUOTE([depth_chair, - dx + depth_chair * 2, depth_chair, 0]),\n",
    "                    QUOTE([0, dy])\n",
    "                ]),\n",
    "                QUOTE([-depth_chair, + dz - depth_chair * 2, -depth_chair, 0])\n",
    "            ]),\n",
    "            PROD([\n",
    "                PROD([\n",
    "                    QUOTE([0, dx]),\n",
    "                    QUOTE([- dy + depth_chair, depth_chair])\n",
    "                ]),\n",
    "                QUOTE([-depth_chair, + dz - depth_chair * 2, -depth_chair, 0])\n",
    "            ])\n",
    "        ]\n",
    "\n",
    "    def makeFeet(dx, dy, dz):\n",
    "        return [\n",
    "            PROD([\n",
    "                PROD([\n",
    "                    QUOTE([-distance_leg, depth_leg, - dx + distance_leg * 2 + depth_leg * 2, depth_leg]),\n",
    "                    QUOTE([-distance_leg, depth_leg, - dy + distance_leg * 2 + depth_leg * 2, depth_leg])\n",
    "                ]),\n",
    "                QUOTE([0, dz])\n",
    "            ])\n",
    "        ]\n",
    "\n",
    "    final = makeFeet(dx, dy, feet)\n",
    "    final.append(T(3)(feet))\n",
    "    final.extend(makeWall(dx, dy, dz - feet))\n",
    "\n",
    "    return STRUCT(final)"
   ]
  },
  {
   "cell_type": "markdown",
   "metadata": {},
   "source": [
    "# Cassetto per mobili"
   ]
  },
  {
   "cell_type": "code",
   "execution_count": 15,
   "metadata": {
    "collapsed": true
   },
   "outputs": [],
   "source": [
    "def ggpl_mobile_drawer(dx, dy, dz):\n",
    "    depth_chair = 0.03 * dy\n",
    "    hole = 0.1 * dz\n",
    "    return COLOR(intRGBColor([215, 190, 157]))(STRUCT([\n",
    "        PROD([\n",
    "            PROD([\n",
    "                QUOTE([0, depth_chair, - dx + depth_chair * 2, depth_chair]),\n",
    "                QUOTE([dy, 0])\n",
    "            ]),\n",
    "            QUOTE([0, dz])\n",
    "        ]),\n",
    "        PROD([\n",
    "            PROD([\n",
    "                QUOTE([0, dx]),\n",
    "                QUOTE([- dy + depth_chair, depth_chair])\n",
    "            ]),\n",
    "            QUOTE([0, dz])\n",
    "        ]),\n",
    "        DIFF([\n",
    "            PROD([\n",
    "                PROD([\n",
    "                    QUOTE([dx / 2.0, dx / 2.0]),\n",
    "                    QUOTE([depth_chair / 2.0, depth_chair / 2.0])\n",
    "                ]),\n",
    "                QUOTE([dz / 2.0, dz / 2.0])\n",
    "            ]),\n",
    "            PROD([\n",
    "                PROD([\n",
    "                    QUOTE([- dx / 2.0 + hole / 2.0, hole]),\n",
    "                    QUOTE([depth_chair / 2.0, depth_chair / 2.0])\n",
    "                ]),\n",
    "                QUOTE([-dz + hole, hole])\n",
    "            ])\n",
    "        ]),\n",
    "        PROD([\n",
    "            PROD([\n",
    "                QUOTE([-depth_chair, dx - depth_chair * 2]),\n",
    "                QUOTE([-depth_chair, dy - depth_chair])\n",
    "            ]),\n",
    "            QUOTE([0, depth_chair])\n",
    "        ])\n",
    "    ]))"
   ]
  },
  {
   "cell_type": "markdown",
   "metadata": {},
   "source": [
    "# Mobiletto con singolo cassetto"
   ]
  },
  {
   "cell_type": "code",
   "execution_count": 16,
   "metadata": {
    "collapsed": true
   },
   "outputs": [],
   "source": [
    "def ggpl_mobile_single_drawer(dx, dy, dz):\n",
    "    depth_chair = 0.03 * dy\n",
    "    feet = 0.05 * dz\n",
    "    mobile = ggpl_mobile_base(dx, dy, dz)\n",
    "\n",
    "    final = [mobile]\n",
    "    final.append(T([1,2,3])([depth_chair, 0, feet +depth_chair]))\n",
    "    final.append(ggpl_mobile_drawer(dx - depth_chair * 2, dy -depth_chair, +dz - feet - depth_chair * 2))\n",
    "\n",
    "    return STRUCT(final)"
   ]
  },
  {
   "cell_type": "markdown",
   "metadata": {},
   "source": [
    "## Esempio"
   ]
  },
  {
   "cell_type": "code",
   "execution_count": 17,
   "metadata": {
    "collapsed": false
   },
   "outputs": [
    {
     "name": "stdout",
     "output_type": "stream",
     "text": [
      "[1.0, 1.0, 1.0]\n"
     ]
    },
    {
     "data": {
      "text/plain": [
       "<pyplasm.xgepy.Hpc; proxy of <Swig Object of type 'std::shared_ptr< Hpc > *' at 0x10a798fc0> >"
      ]
     },
     "execution_count": 17,
     "metadata": {},
     "output_type": "execute_result"
    }
   ],
   "source": [
    "v = ggpl_mobile_single_drawer(1, 1, 1)\n",
    "print SIZE([1, 2, 3])(v)\n",
    "VIEW(v)"
   ]
  },
  {
   "cell_type": "markdown",
   "metadata": {},
   "source": [
    "# Mobiletto con doppio cassetto"
   ]
  },
  {
   "cell_type": "code",
   "execution_count": 18,
   "metadata": {
    "collapsed": true
   },
   "outputs": [],
   "source": [
    "def ggpl_mobile_double_drawer(dx, dy, dz):\n",
    "    depth_chair = 0.03 * dy\n",
    "    feet = 0.05 * dz\n",
    "    mobile = ggpl_mobile_base(dx, dy, dz)\n",
    "\n",
    "    final = [mobile]\n",
    "    final.append(T([1,2,3])([depth_chair, 0, feet +depth_chair]))\n",
    "    size = (+dz - feet - depth_chair * 2) / 2.0\n",
    "    final.append(ggpl_mobile_drawer(dx - depth_chair * 2, dy -depth_chair, size))\n",
    "    final.append(T(3)(size))\n",
    "    final.append(ggpl_mobile_drawer(dx - depth_chair * 2, dy -depth_chair, size))\n",
    "\n",
    "    return STRUCT(final)"
   ]
  },
  {
   "cell_type": "markdown",
   "metadata": {},
   "source": [
    "## Esempio"
   ]
  },
  {
   "cell_type": "code",
   "execution_count": 19,
   "metadata": {
    "collapsed": false
   },
   "outputs": [
    {
     "name": "stdout",
     "output_type": "stream",
     "text": [
      "[1.0, 1.0, 1.0]\n"
     ]
    },
    {
     "data": {
      "text/plain": [
       "<pyplasm.xgepy.Hpc; proxy of <Swig Object of type 'std::shared_ptr< Hpc > *' at 0x10a798db0> >"
      ]
     },
     "execution_count": 19,
     "metadata": {},
     "output_type": "execute_result"
    }
   ],
   "source": [
    "v = ggpl_mobile_double_drawer(1, 1, 1)\n",
    "print SIZE([1, 2, 3])(v)\n",
    "VIEW(v)"
   ]
  },
  {
   "cell_type": "markdown",
   "metadata": {},
   "source": [
    "# Mobiletto con n-cassetto"
   ]
  },
  {
   "cell_type": "code",
   "execution_count": 20,
   "metadata": {
    "collapsed": true
   },
   "outputs": [],
   "source": [
    "def ggpl_mobile_drawer_n(dx, dy, dz, n = 3):\n",
    "    depth_chair = 0.03 * dy\n",
    "    feet = 0.05 * dz\n",
    "    mobile = ggpl_mobile_base(dx, dy, dz)\n",
    "\n",
    "    final = [mobile]\n",
    "    final.append(T([1,2,3])([depth_chair, 0, feet +depth_chair]))\n",
    "    size = (+dz - feet - depth_chair * 2) / float(n)\n",
    "\n",
    "    final.extend([\n",
    "        ggpl_mobile_drawer(dx - depth_chair * 2, dy - depth_chair, size),\n",
    "        T(3)(size)\n",
    "    ] * (n - 1))\n",
    "    final.append(ggpl_mobile_drawer(dx - depth_chair * 2, dy -depth_chair, size))\n",
    "\n",
    "    return STRUCT(final)"
   ]
  },
  {
   "cell_type": "markdown",
   "metadata": {},
   "source": [
    "## Esempio 1"
   ]
  },
  {
   "cell_type": "code",
   "execution_count": 21,
   "metadata": {
    "collapsed": false
   },
   "outputs": [
    {
     "name": "stdout",
     "output_type": "stream",
     "text": [
      "[1.0, 1.0, 1.0]\n"
     ]
    },
    {
     "data": {
      "text/plain": [
       "<pyplasm.xgepy.Hpc; proxy of <Swig Object of type 'std::shared_ptr< Hpc > *' at 0x10a7a4030> >"
      ]
     },
     "execution_count": 21,
     "metadata": {},
     "output_type": "execute_result"
    }
   ],
   "source": [
    "v = ggpl_mobile_drawer_n(1, 1, 1)\n",
    "print SIZE([1, 2, 3])(v)\n",
    "VIEW(v)"
   ]
  },
  {
   "cell_type": "markdown",
   "metadata": {},
   "source": [
    "## Esempio 2"
   ]
  },
  {
   "cell_type": "code",
   "execution_count": null,
   "metadata": {
    "collapsed": true
   },
   "outputs": [],
   "source": [
    "v = ggpl_mobile_drawer_n(1, 1, 1, 5)\n",
    "print SIZE([1, 2, 3])(v)\n",
    "VIEW(v)"
   ]
  },
  {
   "cell_type": "markdown",
   "metadata": {},
   "source": [
    "## Esempio 3"
   ]
  },
  {
   "cell_type": "code",
   "execution_count": null,
   "metadata": {
    "collapsed": true
   },
   "outputs": [],
   "source": [
    "v = ggpl_mobile_drawer_n(1, 1, 1, 10)\n",
    "print SIZE([1, 2, 3])(v)\n",
    "VIEW(v)"
   ]
  },
  {
   "cell_type": "markdown",
   "metadata": {},
   "source": [
    "# Scrivania"
   ]
  },
  {
   "cell_type": "code",
   "execution_count": 15,
   "metadata": {
    "collapsed": true
   },
   "outputs": [],
   "source": [
    "def ggpl_desk(dx, dy, dz):\n",
    "    depth_leg = 0.05 * dx\n",
    "    distance_leg = 0.03 * dx\n",
    "    depth_table = 0.05 * dz\n",
    "\n",
    "    table = ggpl_table(dx, dy, dz)\n",
    "\n",
    "    def makePanel(dx, dy, dz):\n",
    "        return [\n",
    "            PROD([\n",
    "                PROD([\n",
    "                    QUOTE([-distance_leg,  depth_leg, - dx + distance_leg * 2 + depth_leg * 2, depth_leg]),\n",
    "                    QUOTE([-distance_leg - depth_leg, dy - distance_leg * 2 - depth_leg * 2])\n",
    "                ]),\n",
    "                QUOTE([-depth_leg, dz - depth_leg * 4])\n",
    "            ]),\n",
    "            PROD([\n",
    "                PROD([\n",
    "                    QUOTE([-distance_leg - depth_leg, dx - distance_leg * 2 - depth_leg * 2]),\n",
    "                    QUOTE([-dy + depth_leg + distance_leg, depth_leg])\n",
    "                ]),\n",
    "                QUOTE([-depth_leg, dz - depth_leg * 2 - depth_table])\n",
    "            ])\n",
    "        ]\n",
    "\n",
    "    final = [table]\n",
    "    final.extend(makePanel(dx, dy, dz))\n",
    "\n",
    "    return COLOR(intRGBColor([215, 190, 157]))(STRUCT(final))"
   ]
  },
  {
   "cell_type": "markdown",
   "metadata": {},
   "source": [
    "## Esempio"
   ]
  },
  {
   "cell_type": "code",
   "execution_count": null,
   "metadata": {
    "collapsed": true
   },
   "outputs": [],
   "source": [
    "v = ggpl_desk(2, 1, 1)\n",
    "print SIZE([1, 2, 3])(v)\n",
    "VIEW(v)"
   ]
  },
  {
   "cell_type": "markdown",
   "metadata": {},
   "source": [
    "# Scrivania con cassettiera"
   ]
  },
  {
   "cell_type": "code",
   "execution_count": 16,
   "metadata": {
    "collapsed": true
   },
   "outputs": [],
   "source": [
    "def ggpl_desk_mobile(dx, dy, dz, n = 3):\n",
    "    depth_leg = 0.05 * dx\n",
    "    distance_leg = 0.03 * dx\n",
    "    depth_table = 0.05 * dz\n",
    "\n",
    "    mobile = ggpl_mobile_drawer_n(dx * 0.25, dy - distance_leg - depth_leg, dz - depth_leg - depth_table - 0.1, n)\n",
    "    desk = ggpl_desk(dx, dy, dz)\n",
    "\n",
    "    return STRUCT([\n",
    "        desk,\n",
    "        T(1)(dx * 0.75 - distance_leg - depth_leg),\n",
    "        mobile\n",
    "    ])"
   ]
  },
  {
   "cell_type": "markdown",
   "metadata": {},
   "source": [
    "## Esempio"
   ]
  },
  {
   "cell_type": "code",
   "execution_count": null,
   "metadata": {
    "collapsed": true
   },
   "outputs": [],
   "source": [
    "v = ggpl_desk_mobile(2, 1, 1)\n",
    "print SIZE([1, 2, 3])(v)\n",
    "VIEW(v)"
   ]
  },
  {
   "cell_type": "markdown",
   "metadata": {},
   "source": [
    "# Scrivania completta con cassettiera"
   ]
  },
  {
   "cell_type": "code",
   "execution_count": 17,
   "metadata": {
    "collapsed": true
   },
   "outputs": [],
   "source": [
    "def ggpl_desk_mobile_chair(dx, dy, dz, n = 3):\n",
    "    depth_leg = 0.05 * dx\n",
    "    distance_leg = 0.03 * dx\n",
    "    depth_table = 0.05 * dz\n",
    "\n",
    "    mobile = ggpl_mobile_drawer_n(dx * 0.25, dy * 0.5 - distance_leg - depth_leg, dz - depth_leg - depth_table - 0.1, n)\n",
    "    desk = ggpl_desk(dx, dy, dz)\n",
    "    chair = STRUCT([\n",
    "        R([1, 2])(math.pi),\n",
    "        T([1, 2])([-dx * 0.25, -dy * 0.5]),\n",
    "        ggpl_chair_with_arm(dx * 0.25, dy * 0.5, dz)\n",
    "    ])\n",
    "\n",
    "    return STRUCT([\n",
    "        T(1)(dx *0.25),\n",
    "        chair,\n",
    "        T([1, 2])([-dx *0.25, dy * 0.5]),\n",
    "        desk,\n",
    "        T(1)(dx * 0.75 - distance_leg - depth_leg),\n",
    "        mobile\n",
    "    ])"
   ]
  },
  {
   "cell_type": "markdown",
   "metadata": {},
   "source": [
    "## Esempio"
   ]
  },
  {
   "cell_type": "code",
   "execution_count": null,
   "metadata": {
    "collapsed": true
   },
   "outputs": [],
   "source": [
    "v = ggpl_desk_mobile_chair(2, 1, 1)\n",
    "print SIZE([1, 2, 3])(v)\n",
    "VIEW(v)"
   ]
  }
 ],
 "metadata": {
  "kernelspec": {
   "display_name": "Python 2",
   "language": "python",
   "name": "python2"
  },
  "language_info": {
   "codemirror_mode": {
    "name": "ipython",
    "version": 2
   },
   "file_extension": ".py",
   "mimetype": "text/x-python",
   "name": "python",
   "nbconvert_exporter": "python",
   "pygments_lexer": "ipython2",
   "version": "2.7.10"
  }
 },
 "nbformat": 4,
 "nbformat_minor": 0
}
