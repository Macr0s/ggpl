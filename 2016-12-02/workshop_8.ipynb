{
 "cells": [
  {
   "cell_type": "code",
   "execution_count": 1,
   "metadata": {
    "collapsed": false
   },
   "outputs": [
    {
     "name": "stdout",
     "output_type": "stream",
     "text": [
      "Evaluating fenvs.py..\n",
      "...fenvs.py imported in 0.004294 seconds\n"
     ]
    }
   ],
   "source": [
    "from pyplasm import *\n",
    "import csv"
   ]
  },
  {
   "cell_type": "markdown",
   "metadata": {
    "collapsed": true
   },
   "source": [
    "# Modellazione di una pianimetria di una casa\n",
    "\n",
    "![pianimetria](https://raw.githubusercontent.com/Macr0s/ggpl/master/2016-12-02/image/Pianimetria.png)\n",
    "\n",
    "La pianimetria riportata in figura rappresenta il modello di riferimento per la realizzazione finale. Il software deve prendere dei files lines come input per la creazione delle varie parti della struttura. Questi file sono generati attraverso un tool online da file svg creati attraverso un programma di grafica vettoria che ha permesso di ricalcare la varie porti.\n",
    "\n",
    "Per far funzionare il programma si è voluto dividere la struttura nelle varie parti:\n",
    "\n",
    "- Mura esterne\n",
    "\n",
    "![pianimetria](https://raw.githubusercontent.com/Macr0s/ggpl/master/2016-12-02/image/Muro Esterno.png)\n",
    "\n",
    "- Muri interni\n",
    "\n",
    "![pianimetria](https://raw.githubusercontent.com/Macr0s/ggpl/master/2016-12-02/image/Strutture interne.png)\n",
    "\n",
    "- Colonne portanti\n",
    "\n",
    "![pianimetria](https://raw.githubusercontent.com/Macr0s/ggpl/master/2016-12-02/image/Colonne interne.png)\n",
    "\n",
    "- Finestre\n",
    "\n",
    "![pianimetria](https://raw.githubusercontent.com/Macr0s/ggpl/master/2016-12-02/image/Finestre.png)\n",
    "\n",
    "- Porte\n",
    "\n",
    "![pianimetria](https://raw.githubusercontent.com/Macr0s/ggpl/master/2016-12-02/image/Porte.png)\n",
    "\n",
    "- Terrazzo\n",
    "\n",
    "![pianimetria](https://raw.githubusercontent.com/Macr0s/ggpl/master/2016-12-02/image/Pianimetria.png)\n",
    "\n",
    "Considerando tutti questi livelli insieme otteniamo:\n",
    "\n",
    "![pianimetria](https://raw.githubusercontent.com/Macr0s/ggpl/master/2016-12-02/image/Tutti insieme.png)\n",
    "\n",
    "Per generare il modello corrispondente viene creato attraverso l'utilizzo di due funzioni principali.\n",
    "\n",
    "1. createStructFromLines: Crea le mura corrispondente a quella parte attraverso una creazione di una polilyne\n",
    "\n",
    "2. createFloorFromLines: Crea il contorno del pavimento della zona rappresentata dal file passato come parametro"
   ]
  },
  {
   "cell_type": "markdown",
   "metadata": {},
   "source": [
    "## Funzione 1: Creazione Muri"
   ]
  },
  {
   "cell_type": "code",
   "execution_count": 5,
   "metadata": {
    "collapsed": true
   },
   "outputs": [],
   "source": [
    "def createStructFromLines(file_name, size):\n",
    "    points = []\n",
    "    indexs = []\n",
    "    i = 0\n",
    "\n",
    "    with open(file_name, 'rb') as csvfile:\n",
    "        buildereader = csv.reader(csvfile)\n",
    "\n",
    "        for row in buildereader:\n",
    "            points.append([float(row[0]), float(row[1])])\n",
    "            points.append([float(row[2]), float(row[3])])\n",
    "            i += 2\n",
    "            indexs.append([i - 1, i])\n",
    "\n",
    "    return OFFSET([size, size])(\n",
    "        MKPOL([\n",
    "            points,\n",
    "            indexs,\n",
    "            None\n",
    "        ])\n",
    "    )"
   ]
  },
  {
   "cell_type": "markdown",
   "metadata": {},
   "source": [
    "## Funzione 2: Creazione pavimento"
   ]
  },
  {
   "cell_type": "code",
   "execution_count": 6,
   "metadata": {
    "collapsed": true
   },
   "outputs": [],
   "source": [
    "def createFloorFromLines(file_name, size):\n",
    "    points = []\n",
    "    indexs = []\n",
    "    i = 0\n",
    "\n",
    "    with open(file_name, 'rb') as csvfile:\n",
    "        builderreader = csv.reader(csvfile)\n",
    "\n",
    "        for row in builderreader:\n",
    "            points.append([float(row[0]), float(row[1])])\n",
    "            points.append([float(row[2]), float(row[3])])\n",
    "            i += 2\n",
    "            indexs.extend([i - 1, i])\n",
    "\n",
    "    return OFFSET([size, size])(\n",
    "        MKPOL([\n",
    "            points,\n",
    "            [indexs],\n",
    "            None\n",
    "        ])\n",
    "    )"
   ]
  },
  {
   "cell_type": "markdown",
   "metadata": {},
   "source": [
    "## Corpo centrale di unione delle varie parti"
   ]
  },
  {
   "cell_type": "code",
   "execution_count": 4,
   "metadata": {
    "collapsed": true
   },
   "outputs": [],
   "source": [
    "if __name__ == \"__main__\":\n",
    "    externalWall = createStructFromLines(\"pianimetria/lines/Muro Esterno.lines\", 4)\n",
    "    internalWall = createStructFromLines(\"pianimetria/lines/Strutture interne.lines\", 4)\n",
    "    windows = createStructFromLines(\"pianimetria/lines/Finestre.lines\", 4)\n",
    "    doors = createStructFromLines(\"pianimetria/lines/Porte.lines\", 4)\n",
    "    pillars = createStructFromLines(\"pianimetria/lines/Colonne Interne.lines\", 4)\n",
    "    balconies = createStructFromLines(\"pianimetria/lines/Terrazzi.lines\", 4)\n",
    "    internalFloor = createFloorFromLines(\"pianimetria/lines/Muro Esterno.lines\", 4)\n",
    "    balcony_floor = createFloorFromLines(\"pianimetria/lines/Terrazzi.lines\", 4)\n",
    "\n",
    "    external = DIFF([\n",
    "        externalWall,\n",
    "        windows,\n",
    "        doors\n",
    "    ])\n",
    "\n",
    "    internal = DIFF([\n",
    "        internalWall,\n",
    "        windows,\n",
    "        doors\n",
    "    ])\n",
    "\n",
    "    VIEW(STRUCT([\n",
    "        COLOR(RED)(PROD([\n",
    "            external,\n",
    "            QUOTE([100])\n",
    "        ])),\n",
    "        COLOR(BLUE)(PROD([\n",
    "            internal,\n",
    "            QUOTE([100])\n",
    "        ])),\n",
    "        pillars,\n",
    "        balconies,\n",
    "        INTERSECTION([\n",
    "            internalFloor,\n",
    "            SOLIDIFY(externalWall)\n",
    "        ])\n",
    "    ]))\n",
    "\n"
   ]
  },
  {
   "cell_type": "markdown",
   "metadata": {},
   "source": [
    "## Risultato Finale"
   ]
  },
  {
   "cell_type": "code",
   "execution_count": null,
   "metadata": {
    "collapsed": true
   },
   "outputs": [],
   "source": []
  }
 ],
 "metadata": {
  "kernelspec": {
   "display_name": "Python 2",
   "language": "python",
   "name": "python2"
  },
  "language_info": {
   "codemirror_mode": {
    "name": "ipython",
    "version": 2
   },
   "file_extension": ".py",
   "mimetype": "text/x-python",
   "name": "python",
   "nbconvert_exporter": "python",
   "pygments_lexer": "ipython2",
   "version": "2.7.10"
  }
 },
 "nbformat": 4,
 "nbformat_minor": 0
}
