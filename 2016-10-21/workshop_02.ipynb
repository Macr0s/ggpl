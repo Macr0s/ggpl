{
 "cells": [
  {
   "cell_type": "code",
   "execution_count": null,
   "metadata": {
    "collapsed": true
   },
   "outputs": [],
   "source": [
    "from pyplasm import *"
   ]
  },
  {
   "cell_type": "code",
   "execution_count": null,
   "metadata": {},
   "outputs": [],
   "source": [
    "def ggpl_bone_structure(file_name):\n",
    "    def planeStructure(beamSection, pillarSection, distancePillars, intersectHeights):\n",
    "        fStructs = []\n",
    "\n",
    "        def createFinalStruct(startPoint, height):\n",
    "            pillar = CUBOID([pillarSection[0], pillarSection[1], height])\n",
    "            return STRUCT([T(2)(startPoint), pillar])\n",
    "\n",
    "        def createFStruct(startPoint, height, lengthBeam):\n",
    "            fStruct = []\n",
    "\n",
    "            fStruct.append(createFinalStruct(startPoint, height))\n",
    "            hPillar = 0\n",
    "            for i in range(len(intersectHeights)):\n",
    "                beam = CUBOID([beamSection[1], lengthBeam, beamSection[0]])\n",
    "                hPillar += intersectHeights[i]\n",
    "                fStruct.append(STRUCT([\n",
    "                    T(3)(hPillar),\n",
    "                    T(2)(pillarSection[1] + startPoint),\n",
    "                    beam\n",
    "                ]))\n",
    "            return STRUCT(fStruct)\n",
    "\n",
    "        height = SUM(intersectHeights) + beamSection[1]\n",
    "\n",
    "        startDistance = 0\n",
    "        for iterator in range(len(distancePillars)):\n",
    "            if iterator != len(distancePillars) - 1:\n",
    "                fStructs.append(createFStruct(startDistance, height, distancePillars[iterator]))\n",
    "            else:\n",
    "                fStructs.append(createFinalStruct(startDistance, height))\n",
    "\n",
    "            startDistance = startDistance + pillarSection[1] + distancePillars[iterator]\n",
    "\n",
    "        return STRUCT(fStructs)"
   ]
  },
  {
   "cell_type": "code",
   "execution_count": null,
   "metadata": {},
   "outputs": [],
   "source": [
    "VIEW(ggpl_bone_structure(\"frame_data_457024.csv\"))"
   ]
  }
 ],
 "metadata": {
  "kernelspec": {
   "display_name": "Python 2",
   "language": "python",
   "name": "python2"
  },
  "language_info": {
   "codemirror_mode": {
    "name": "ipython",
    "version": 2.0
   },
   "file_extension": ".py",
   "mimetype": "text/x-python",
   "name": "python",
   "nbconvert_exporter": "python",
   "pygments_lexer": "ipython2",
   "version": "2.7.6"
  }
 },
 "nbformat": 4,
 "nbformat_minor": 0
}