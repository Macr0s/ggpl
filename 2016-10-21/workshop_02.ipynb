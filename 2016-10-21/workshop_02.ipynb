{
 "cells": [
  {
   "cell_type": "code",
   "execution_count": null,
   "metadata": {
    "collapsed": true
   },
   "outputs": [],
   "source": [
    "from pyplasm import *\n",
    "import csv"
   ]
  },
  {
   "cell_type": "code",
   "execution_count": 2,
   "metadata": {
    "collapsed": true
   },
   "outputs": [],
   "source": [
    "\n",
    "def ggpl_bone_structure(file_name):\n",
    "    def planeStructure(beamSection, pillarSection, distancePillars, intersectHeights):\n",
    "        fStructs = []\n",
    "\n",
    "        def createFinalStruct(startPoint, height):\n",
    "            pillar = CUBOID([pillarSection[0], pillarSection[1], height])\n",
    "            return STRUCT([T(2)(startPoint), pillar])\n",
    "\n",
    "        def createFStruct(startPoint, height, lengthBeam):\n",
    "            fStruct = []\n",
    "\n",
    "            fStruct.append(createFinalStruct(startPoint, height))\n",
    "            hPillar = 0\n",
    "            for i in range(len(intersectHeights)):\n",
    "                beam = CUBOID([beamSection[1], lengthBeam, beamSection[0]])\n",
    "                hPillar += intersectHeights[i]\n",
    "                fStruct.append(STRUCT([\n",
    "                    T(3)(hPillar),\n",
    "                    T(2)(pillarSection[1] + startPoint),\n",
    "                    beam\n",
    "                ]))\n",
    "            return STRUCT(fStruct)\n",
    "\n",
    "        height = SUM(intersectHeights) + beamSection[1]\n",
    "\n",
    "        startDistance = 0\n",
    "        for iterator in range(len(distancePillars)):\n",
    "            fStructs.append(createFStruct(startDistance, height, distancePillars[iterator]))\n",
    "\n",
    "            startDistance = startDistance + pillarSection[1] + distancePillars[iterator]\n",
    "\n",
    "        fStructs.append(createFinalStruct(startDistance, height))\n",
    "\n",
    "        return STRUCT(fStructs)\n",
    "\n",
    "    def createTrasversalBeam(distance, beamSection, pillarSection, distancePillars, intersectHeights):\n",
    "        y = []\n",
    "        for index in range(len(distancePillars)):\n",
    "            y.append(pillarSection[1])\n",
    "            y.append(- distancePillars[index])\n",
    "        y.append(pillarSection[1])\n",
    "\n",
    "        x = [\n",
    "            - pillarSection[0],\n",
    "            distance\n",
    "        ]\n",
    "\n",
    "        z = []\n",
    "        for i in range(len(intersectHeights)):\n",
    "            if i == 0:\n",
    "                z.append(-intersectHeights[i])\n",
    "            else:\n",
    "                z.append(-intersectHeights[i] + beamSection[1])\n",
    "            z.append(beamSection[1])\n",
    "\n",
    "        return PROD([\n",
    "                PROD([QUOTE(x), QUOTE(y)]),\n",
    "                QUOTE(z)\n",
    "        ])\n",
    "\n",
    "    def parseCSV(file_name):\n",
    "        odd = True\n",
    "        transaction = None\n",
    "        with open(file_name, 'rb') as csvfile:\n",
    "            builderreader = csv.reader(csvfile)\n",
    "\n",
    "            for row in builderreader:\n",
    "                if odd:\n",
    "                    odd = False\n",
    "                    transaction = [float(row[0]), float(row[1]), float(row[2])]\n",
    "                else:\n",
    "                    odd = True\n",
    "                    beamSection = [float(row[0]), float(row[1])]\n",
    "                    pillarSection = [float(row[2]), float(row[3])]\n",
    "\n",
    "                    distancePillars = []\n",
    "                    start_point = 5\n",
    "                    finish_point = int(row[4]) + start_point\n",
    "                    for index in range(start_point, finish_point):\n",
    "                        distancePillars.append(int(row[index]))\n",
    "\n",
    "                    intersectHeights = []\n",
    "                    start_point = finish_point + 1\n",
    "                    finish_point = int(row[finish_point]) + start_point\n",
    "                    for index in range(start_point, finish_point):\n",
    "                        intersectHeights.append(int(row[index]))\n",
    "\n",
    "                    yield transaction, beamSection, pillarSection, distancePillars, intersectHeights\n",
    "\n",
    "    frames = []\n",
    "    for transaction, beamSection, pillarSection, distancePillars, intersectHeights in parseCSV(file_name):\n",
    "        frames.append(T(2)(transaction[1]))\n",
    "\n",
    "        if transaction[0] != 0:\n",
    "            frames.append(\n",
    "                createTrasversalBeam(\n",
    "                    transaction[0], beamSection, pillarSection, distancePillars,intersectHeights\n",
    "                )\n",
    "            )\n",
    "\n",
    "        frames.append(T([1, 3])([transaction[0], transaction[2]]))\n",
    "        frames.append(\n",
    "            planeStructure(beamSection, pillarSection, distancePillars, intersectHeights)\n",
    "        )\n",
    "\n",
    "    return STRUCT(frames)"
   ]
  },
  {
   "cell_type": "code",
   "execution_count": 1,
   "metadata": {
    "collapsed": false
   },
   "outputs": [
    {
     "ename": "NameError",
     "evalue": "name 'VIEW' is not defined",
     "output_type": "error",
     "traceback": [
      "\u001b[0;31m---------------------------------------------------------------------------\u001b[0m",
      "\u001b[0;31mNameError\u001b[0m                                 Traceback (most recent call last)",
      "\u001b[0;32m<ipython-input-1-3c24034d764d>\u001b[0m in \u001b[0;36m<module>\u001b[0;34m()\u001b[0m\n\u001b[0;32m----> 1\u001b[0;31m \u001b[0mVIEW\u001b[0m\u001b[0;34m(\u001b[0m\u001b[0mggpl_bone_structure\u001b[0m\u001b[0;34m(\u001b[0m\u001b[0;34m\"frame_data_457024.csv\"\u001b[0m\u001b[0;34m)\u001b[0m\u001b[0;34m)\u001b[0m\u001b[0;34m\u001b[0m\u001b[0m\n\u001b[0m",
      "\u001b[0;31mNameError\u001b[0m: name 'VIEW' is not defined"
     ]
    }
   ],
   "source": [
    "VIEW(ggpl_bone_structure(\"frame_data_457024.csv\"))"
   ]
  },
  {
   "cell_type": "code",
   "execution_count": null,
   "metadata": {
    "collapsed": true
   },
   "outputs": [],
   "source": []
  }
 ],
 "metadata": {
  "kernelspec": {
   "display_name": "IPython (Python 2.7)",
   "language": "python",
   "name": "python2.7"
  },
  "language_info": {
   "codemirror_mode": {
    "name": "ipython",
    "version": 2
   },
   "file_extension": ".py",
   "mimetype": "text/x-python",
   "name": "python",
   "nbconvert_exporter": "python",
   "pygments_lexer": "ipython2",
   "version": "2.7.10"
  }
 },
 "nbformat": 4,
 "nbformat_minor": 1
}
