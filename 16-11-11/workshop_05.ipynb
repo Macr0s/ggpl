{
 "cells": [
  {
   "cell_type": "markdown",
   "metadata": {
    "collapsed": true
   },
   "source": [
    "#Tipo 1"
   ]
  },
  {
   "cell_type": "code",
   "execution_count": null,
   "metadata": {},
   "outputs": [],
   "source": [
    ""
   ]
  },
  {
   "cell_type": "code",
   "execution_count": null,
   "metadata": {},
   "outputs": [],
   "source": [
    ""
   ]
  },
  {
   "cell_type": "markdown",
   "metadata": {},
   "source": [
    "#Sedia"
   ]
  },
  {
   "cell_type": "code",
   "execution_count": null,
   "metadata": {},
   "outputs": [],
   "source": [
    "def ggpl_chair(dx, dy, dz, depth_leg=0.015, distance_leg=0.03, depth_chair=0.01, height_leg=0.45):\n",
    "    def makeLeg(dx, dy, dz):\n",
    "        def baseChair(dx, dy, dz):\n",
    "            first = PROD([\n",
    "                PROD([\n",
    "                    QUOTE([-distance_leg, dx - distance_leg * 2]),\n",
    "                    QUOTE([-distance_leg, dy - distance_leg * 2])\n",
    "                ]),\n",
    "                QUOTE([- dz + depth_leg, depth_leg])\n",
    "            ])\n",
    "            second = PROD([\n",
    "                PROD([\n",
    "                    QUOTE([-distance_leg - depth_leg, dx - distance_leg * 2 - depth_leg * 2]),\n",
    "                    QUOTE([-distance_leg - depth_leg, dy - distance_leg * 2 - depth_leg * 2])\n",
    "                ]),\n",
    "                QUOTE([- dz + depth_leg, depth_leg])\n",
    "            ])\n",
    "\n",
    "            return DIFF([\n",
    "                first, second\n",
    "            ])\n",
    "\n",
    "        base_x = QUOTE([-distance_leg, depth_leg, - (dx - distance_leg * 2 - depth_leg * 2), depth_leg])\n",
    "        base_y = QUOTE([-distance_leg, depth_leg, - (dy - distance_leg * 2 - depth_leg * 2), depth_leg])\n",
    "        base_z = QUOTE([dz - depth_leg])\n",
    "\n",
    "        return STRUCT([\n",
    "            PROD([\n",
    "                PROD([base_x, base_y]),\n",
    "                base_z\n",
    "            ]),\n",
    "            baseChair(dx, dy, dz)\n",
    "        ])\n",
    "\n",
    "    return STRUCT([\n",
    "        COLOR(BLACK)(makeLeg(dx, dy, height_leg)),\n",
    "        T(3)(height_leg),\n",
    "        COLOR(intRGBColor([215, 190, 157]))(CUBOID([dx, dy, depth_chair])),\n",
    "        T(2)(dy - depth_chair),\n",
    "        COLOR(intRGBColor([215, 190, 157]))(CUBOID([dx, depth_chair, dz - depth_chair - height_leg]))\n",
    "    ])"
   ]
  }
 ],
 "metadata": {
  "kernelspec": {
   "display_name": "Python 2",
   "language": "python",
   "name": "python2"
  },
  "language_info": {
   "codemirror_mode": {
    "name": "ipython",
    "version": 2.0
   },
   "file_extension": ".py",
   "mimetype": "text/x-python",
   "name": "python",
   "nbconvert_exporter": "python",
   "pygments_lexer": "ipython2",
   "version": "2.7.6"
  }
 },
 "nbformat": 4,
 "nbformat_minor": 0
}